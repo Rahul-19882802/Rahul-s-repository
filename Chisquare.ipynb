{
 "cells": [
  {
   "cell_type": "markdown",
   "id": "8b409dfd-e70c-4d9d-9ad8-89384cc05d4c",
   "metadata": {},
   "source": [
    "## ***CHI-SQUARE TEST***\n",
    "**Association between Device Type and Customer Satisfaction**\n",
    "\n",
    "**Background:**\n",
    "\n",
    "Mizzare Corporation has collected data on customer satisfaction levels for two types of smart home devices: Smart Thermostats and Smart Lights. They want to determine if there's a significant association between the type of device purchased and the customer's satisfaction level.\n",
    "\n",
    "**Data Provided:**\n",
    "\n",
    "The data is summarized in a contingency table showing the counts of customers in each satisfaction level for both types of devices:\n",
    "\n",
    "Satisfaction\tSmart Thermostat\tSmart Light\tTotal\n",
    "Very Satisfied\t50\t70\t120\n",
    "Satisfied\t80\t100\t180\n",
    "Neutral\t60\t90\t150\n",
    "Unsatisfied\t30\t50\t80\n",
    "Very Unsatisfied\t20\t50\t70\n",
    "Total\t240\t360\t600\n",
    "\n",
    "**Objective:**\n",
    "\n",
    "To use the Chi-Square test for independence to determine if there's a significant association between the type of smart home device purchased (Smart Thermostats vs. Smart Lights) and the customer satisfaction level.\n",
    "\n",
    "**Assignment Tasks:**\n",
    "\n",
    "**1. State the Hypotheses:**\n",
    "\n",
    "**2. Compute the Chi-Square Statistic:**\n",
    "\n",
    "**3. Determine the Critical Value:**\n",
    "\n",
    "Using the significance level (alpha) of 0.05 and the degrees of freedom (which is the number of categories minus 1)\n",
    "\n",
    "**4. Make a Decision:**\n",
    "\n",
    "Compare the Chi-Square statistic with the critical value to decide whether to reject the null hypothesis.\n",
    "Submission Guidelines:\n",
    "\n",
    "•\tProvide a detailed report of your analysis, including each step outlined in the assignment tasks in a python file.\n",
    "\n",
    "•\tInclude all calculations, the Chi-Square statistic, the critical value, and your conclusion.\n"
   ]
  },
  {
   "cell_type": "code",
   "execution_count": null,
   "id": "afac540d-cd2a-4d14-9088-6f613f6b8c70",
   "metadata": {},
   "outputs": [],
   "source": []
  },
  {
   "cell_type": "code",
   "execution_count": 1,
   "id": "2cc90391-896c-486f-bf8e-2d2afbae0790",
   "metadata": {},
   "outputs": [
    {
     "name": "stdout",
     "output_type": "stream",
     "text": [
      "Fail to reject the null hypothesis. There is no significant association between device type and customer satisfaction.\n",
      "Chi-Square statistic: 5.638227513227513\n",
      "Critical value: 9.487729036781154\n",
      "Degrees of freedom: 4\n"
     ]
    }
   ],
   "source": [
    "import numpy as np\n",
    "from scipy.stats import chi2\n",
    "\n",
    "# Contingency table\n",
    "observed = np.array([[50, 70], [80, 100], [60, 90], [30, 50], [20, 50]])\n",
    "\n",
    "# Calculate expected frequencies\n",
    "total_rows = observed.sum(axis=1)\n",
    "total_cols = observed.sum(axis=0)\n",
    "total = observed.sum()\n",
    "expected = np.outer(total_rows, total_cols) / total\n",
    "\n",
    "# Calculate Chi-Square statistic\n",
    "chi2_stat = np.sum((observed - expected) ** 2 / expected)\n",
    "\n",
    "# Determine degrees of freedom\n",
    "df = (observed.shape[0] - 1) * (observed.shape[1] - 1)\n",
    "\n",
    "# Determine critical value\n",
    "alpha = 0.05\n",
    "critical_value = chi2.ppf(1 - alpha, df)\n",
    "\n",
    "# Make a decision\n",
    "if chi2_stat > critical_value:\n",
    "    print(\"Reject the null hypothesis. There is a significant association between device type and customer satisfaction.\")\n",
    "else:\n",
    "    print(\"Fail to reject the null hypothesis. There is no significant association between device type and customer satisfaction.\")\n",
    "\n",
    "print(f\"Chi-Square statistic: {chi2_stat}\")\n",
    "print(f\"Critical value: {critical_value}\")\n",
    "print(f\"Degrees of freedom: {df}\")\n",
    "\n"
   ]
  },
  {
   "cell_type": "code",
   "execution_count": null,
   "id": "233f0594-8330-4ffc-ad88-6bdfe06e2a5c",
   "metadata": {},
   "outputs": [],
   "source": []
  },
  {
   "cell_type": "markdown",
   "id": "785edd1b-5a9f-4aa2-879f-bc931265a4d0",
   "metadata": {},
   "source": [
    "**Step 1: State the Hypotheses**\n",
    "\n",
    "The null hypothesis (H0) is that there is no significant association between the type of smart home device purchased and the customer satisfaction level. The alternative hypothesis (H1) is that there is a significant association between the type of smart home device purchased and the customer satisfaction level.\n",
    "\n",
    "**Step 2: Compute the Chi-Square Statistic**\n",
    "\n",
    "We calculate the expected frequencies using the marginal totals. Then, we compute the Chi-Square statistic using the formula: Σ [(observed - expected)^2 / expected].\n",
    "\n",
    "**Step 3: Determine the Critical Value**\n",
    "\n",
    "We determine the degrees of freedom (df) as (number of rows - 1) * (number of columns - 1). Then, we use the Chi-Square distribution to find the critical value for the given significance level (alpha) and degrees of freedom.\n",
    "\n",
    "**Step 4: Make a Decision**\n",
    "\n",
    "We compare the calculated Chi-Square statistic with the critical value. If the Chi-Square statistic is greater than the critical value, we reject the null hypothesis and conclude that there is a significant association between the type of smart home device purchased and the customer satisfaction level. Otherwise, we fail to reject the null hypothesis and conclude that there is no significant association."
   ]
  },
  {
   "cell_type": "code",
   "execution_count": null,
   "id": "84050f68-9b0b-4df4-ba22-8f086c908270",
   "metadata": {},
   "outputs": [],
   "source": []
  },
  {
   "cell_type": "code",
   "execution_count": null,
   "id": "c96e45f2-8925-47b9-bc86-5be1a78e4a4f",
   "metadata": {},
   "outputs": [],
   "source": []
  },
  {
   "cell_type": "code",
   "execution_count": null,
   "id": "5d71c68d-3caa-4a83-b24b-b75e10877f91",
   "metadata": {},
   "outputs": [],
   "source": []
  },
  {
   "cell_type": "code",
   "execution_count": null,
   "id": "d1226e06-5ef2-4b8b-917a-bc034b459496",
   "metadata": {},
   "outputs": [],
   "source": []
  },
  {
   "cell_type": "code",
   "execution_count": null,
   "id": "7e8ea7f7-571a-460c-bae8-9f365e5db27a",
   "metadata": {},
   "outputs": [],
   "source": []
  },
  {
   "cell_type": "code",
   "execution_count": null,
   "id": "698a7c62-82f4-45b0-be70-c36d467e3d32",
   "metadata": {},
   "outputs": [],
   "source": []
  },
  {
   "cell_type": "code",
   "execution_count": null,
   "id": "0e749fe6-8e74-469c-92ac-640cd3e7b586",
   "metadata": {},
   "outputs": [],
   "source": []
  },
  {
   "cell_type": "code",
   "execution_count": null,
   "id": "37ca69cc-7e00-420d-8be9-ed48532a2176",
   "metadata": {},
   "outputs": [],
   "source": []
  },
  {
   "cell_type": "code",
   "execution_count": null,
   "id": "bd60eb20-5f09-43ab-971f-c53cd464ab72",
   "metadata": {},
   "outputs": [],
   "source": []
  },
  {
   "cell_type": "code",
   "execution_count": null,
   "id": "ed02322f-1c9e-40de-af5a-1d141a0a5a62",
   "metadata": {},
   "outputs": [],
   "source": []
  },
  {
   "cell_type": "code",
   "execution_count": null,
   "id": "1809aad1-8c25-4ea6-82c3-6fdf0904cb69",
   "metadata": {},
   "outputs": [],
   "source": []
  },
  {
   "cell_type": "code",
   "execution_count": null,
   "id": "1760e800-2a4a-4b8e-96f2-a713f4e4e9ce",
   "metadata": {},
   "outputs": [],
   "source": []
  },
  {
   "cell_type": "code",
   "execution_count": null,
   "id": "9221a04e-fd95-4b01-a1e3-e4123ed60e89",
   "metadata": {},
   "outputs": [],
   "source": []
  },
  {
   "cell_type": "code",
   "execution_count": null,
   "id": "f6381150-56f2-446c-a6bc-6415af7ba2b3",
   "metadata": {},
   "outputs": [],
   "source": []
  },
  {
   "cell_type": "code",
   "execution_count": null,
   "id": "afed65eb-da16-47d4-a5cc-88ea67f4aa7a",
   "metadata": {},
   "outputs": [],
   "source": []
  },
  {
   "cell_type": "code",
   "execution_count": null,
   "id": "1d293ea9-0942-4d68-bb0b-73a746473a9b",
   "metadata": {},
   "outputs": [],
   "source": []
  },
  {
   "cell_type": "code",
   "execution_count": null,
   "id": "7e69c65e-3673-4765-9fa1-5dbc58c712b6",
   "metadata": {},
   "outputs": [],
   "source": []
  },
  {
   "cell_type": "code",
   "execution_count": null,
   "id": "14bb65f5-ca7a-47f2-a454-98147e423a07",
   "metadata": {},
   "outputs": [],
   "source": []
  },
  {
   "cell_type": "code",
   "execution_count": null,
   "id": "a6c7c15f-c793-4a24-b056-aa8a433c24a1",
   "metadata": {},
   "outputs": [],
   "source": []
  },
  {
   "cell_type": "code",
   "execution_count": null,
   "id": "530cdbe9-0b97-4f08-a86a-82fbe1d78545",
   "metadata": {},
   "outputs": [],
   "source": []
  },
  {
   "cell_type": "code",
   "execution_count": null,
   "id": "a1de0829-210e-45d7-9363-d00ca53e4bb4",
   "metadata": {},
   "outputs": [],
   "source": []
  },
  {
   "cell_type": "code",
   "execution_count": null,
   "id": "d76a9f23-9670-4d10-9691-f9c6bff7011a",
   "metadata": {},
   "outputs": [],
   "source": []
  },
  {
   "cell_type": "code",
   "execution_count": null,
   "id": "a4b3bdf5-c5bd-4847-8f38-e3abff0e246a",
   "metadata": {},
   "outputs": [],
   "source": []
  },
  {
   "cell_type": "code",
   "execution_count": null,
   "id": "35674abd-724a-4e12-a9cd-64c32f433922",
   "metadata": {},
   "outputs": [],
   "source": []
  },
  {
   "cell_type": "code",
   "execution_count": null,
   "id": "f2cfd361-b341-447f-9e5c-d1695c5f1a7d",
   "metadata": {},
   "outputs": [],
   "source": []
  },
  {
   "cell_type": "code",
   "execution_count": null,
   "id": "36ee2bb6-6172-4e90-8cfe-259b19a89dea",
   "metadata": {},
   "outputs": [],
   "source": []
  },
  {
   "cell_type": "code",
   "execution_count": null,
   "id": "e1fbbdbe-7268-4933-a8c7-1000353bf1b0",
   "metadata": {},
   "outputs": [],
   "source": []
  },
  {
   "cell_type": "code",
   "execution_count": null,
   "id": "91f9c096-8d55-4a23-b564-a6c0f2cbefdb",
   "metadata": {},
   "outputs": [],
   "source": []
  },
  {
   "cell_type": "code",
   "execution_count": null,
   "id": "b2eac609-215d-4e76-afc5-c91cfd818a6b",
   "metadata": {},
   "outputs": [],
   "source": []
  },
  {
   "cell_type": "code",
   "execution_count": null,
   "id": "f225797e-085c-4884-84c5-10c00c3084e1",
   "metadata": {},
   "outputs": [],
   "source": []
  },
  {
   "cell_type": "code",
   "execution_count": null,
   "id": "8606bc73-2ef9-4963-b376-49f7933f5b15",
   "metadata": {},
   "outputs": [],
   "source": []
  },
  {
   "cell_type": "code",
   "execution_count": null,
   "id": "2c6c23e4-6b97-4e3a-86b3-7967b18e6298",
   "metadata": {},
   "outputs": [],
   "source": []
  },
  {
   "cell_type": "code",
   "execution_count": null,
   "id": "2d488c46-0c59-48ce-8ab7-191d841184a8",
   "metadata": {},
   "outputs": [],
   "source": []
  },
  {
   "cell_type": "code",
   "execution_count": null,
   "id": "b7c4ed1f-ed74-483d-978b-f04b613257ca",
   "metadata": {},
   "outputs": [],
   "source": []
  }
 ],
 "metadata": {
  "kernelspec": {
   "display_name": "Python 3 (ipykernel)",
   "language": "python",
   "name": "python3"
  },
  "language_info": {
   "codemirror_mode": {
    "name": "ipython",
    "version": 3
   },
   "file_extension": ".py",
   "mimetype": "text/x-python",
   "name": "python",
   "nbconvert_exporter": "python",
   "pygments_lexer": "ipython3",
   "version": "3.11.7"
  }
 },
 "nbformat": 4,
 "nbformat_minor": 5
}
