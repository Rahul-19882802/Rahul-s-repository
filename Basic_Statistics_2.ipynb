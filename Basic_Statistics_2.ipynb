{
 "cells": [
  {
   "cell_type": "markdown",
   "id": "2acf9d1e-d314-43e3-be1e-dc9441dc4e0a",
   "metadata": {},
   "source": [
    "# ***Estimation And Confidence Intervals***"
   ]
  },
  {
   "cell_type": "markdown",
   "id": "f580daef-2f4c-4439-8289-57a7a61c1ff2",
   "metadata": {},
   "source": [
    "### ***Background***\n",
    "In quality control processes, especially when dealing with high-value items,  destructive sampling is a necessary but costly method to ensure product quality. \n",
    "The test to determine whether an item meets the quality standards destroys the item,leading to the requirement of small sample sizes due to cost constraints.\n",
    "\n",
    "### ***Scenario***\n",
    "A manufacturer of print-heads for personal computers is interested in estimating\n",
    "the mean durability of their print-heads in terms of the number of characters printed before failure.To assess this, the manufacturer conducts a study on a small sample of print-heads due to the destructive nature of the testing process.\n",
    "\n",
    "### ***Data***\n",
    "A total of 15 print-heads were randomly selected and tested until failure.\n",
    "The durability of each print-head (in millions of characters) was recorded as follows:\n",
    "**1.13, 1.55, 1.43, 0.92, 1.25, 1.36, 1.32, 0.85, 1.07, 1.48, 1.20, 1.33, 1.18, 1.22, 1.29**\n",
    "\n",
    "### ***Assignment Tasks***\n",
    "a. Build 99% Confidence Interval Using Sample Standard Deviation Assuming the sample is representative of the population, \n",
    "construct a 99% confidence interval for the mean number of characters printed before the print-head fails using the sample standard deviation.Explain the steps you take and the rationale behind using the t-distribution for this task.\n"
   ]
  },
  {
   "cell_type": "code",
   "execution_count": 1,
   "id": "3e3cc634-e2d4-4813-810a-fe2a105e7bdf",
   "metadata": {},
   "outputs": [
    {
     "ename": "SyntaxError",
     "evalue": "invalid character '≈' (U+2248) (3886965532.py, line 8)",
     "output_type": "error",
     "traceback": [
      "\u001b[1;36m  Cell \u001b[1;32mIn[1], line 8\u001b[1;36m\u001b[0m\n\u001b[1;33m    x̄ ≈ 1.23\u001b[0m\n\u001b[1;37m       ^\u001b[0m\n\u001b[1;31mSyntaxError\u001b[0m\u001b[1;31m:\u001b[0m invalid character '≈' (U+2248)\n"
     ]
    }
   ],
   "source": [
    "#To construct a 99% confidence interval for the mean number of characters printed before the print-head fails, \n",
    "# we'll follow these steps:\n",
    "\n",
    "# Step 1: Calculate the Sample Mean\n",
    "# First, we need to calculate the sample mean (x̄) of the durability values.\n",
    "\n",
    "x̄ = (1.13 + 1.55 + 1.43 + 0.92 + 1.25 + 1.36 + 1.32 + 0.85 + 1.07 + 1.48 + 1.20 + 1.33 + 1.18 + 1.22 + 1.29) / 15\n",
    "x̄ ≈ 1.23\n",
    "\n",
    "# Step 2: Calculate the Sample Standard Deviation\n",
    "# Next, we'll calculate the sample standard deviation (s) of the durability values.\n",
    "\n",
    "s = √[(Σ(xi - x̄)^2) / (n - 1)]\n",
    "#where xi are the individual durability values, x̄ is the sample mean, and n is the sample size.\n",
    "\n",
    "s ≈ √[(Σ(xi - 1.23)^2) / (15 - 1)] ≈ 0.21\n",
    "\n",
    "# Step 3: Determine the Critical t-Value\n",
    "# For a 99% confidence interval, we need to find the critical t-value from the t-distribution table. \n",
    "# The degrees of freedom (df) is n - 1 = 15 - 1 = 14.\n",
    "\n",
    "# Using a t-distribution table or calculator, we find the critical t-value for a two-tailed test with df = 14 and α = 0.01:\n",
    "\n",
    "# t0.005,14 ≈ 2.977\n",
    "\n",
    "# Step 4: Calculate the Margin of Error\n",
    "# Now, we'll calculate the margin of error (E) using the formula:\n",
    "\n",
    "E = t * (s / √n)\n",
    "# where t is the critical t-value, s is the sample standard deviation, and n is the sample size.\n",
    "\n",
    "E ≈ 2.977 * (0.21 / √15) ≈ 0.15\n",
    "\n",
    "# Step 5: Construct the Confidence Interval\n",
    "# Finally, we'll construct the 99% confidence interval for the mean number of characters printed before the print-head fails:\n",
    "\n",
    "x̄ - E ≤ μ ≤ x̄ + E\n",
    "1.23 - 0.15 ≤ μ ≤ 1.23 + 0.15\n",
    "1.08 ≤ μ ≤ 1.38\n",
    "\n",
    "# Therefore, we are 99% confident that the true mean number of characters printed before \n",
    "# the print-head fails lies between 1.08 million and 1.38 million.\n",
    "\n",
    "# Rationale for Using the t-Distribution\n",
    "# We use the t-distribution for this task because:\n",
    "\n",
    "# 1. Small sample size: Our sample size is relatively small (n = 15), \n",
    "# which makes the t-distribution a more suitable choice than the normal distribution.\n",
    "# 2. Unknown population standard deviation: We don't know the population standard deviation (σ),\n",
    "# so we use the sample standard deviation (s) as an estimate. \n",
    "# The t-distribution takes into account the uncertainty associated with using a sample statistic.\n",
    "# 3. Constructing a confidence interval:\n",
    "# The t-distribution is specifically designed for constructing confidence intervals for population means\n",
    "# when the sample size is small and the population standard deviation is unknown."
   ]
  },
  {
   "cell_type": "code",
   "execution_count": null,
   "id": "a7c5b6f6-0475-4da5-b250-f1e4d5635bca",
   "metadata": {},
   "outputs": [],
   "source": [
    "#To construct a 99% confidence interval for the mean number of characters printed before the print-head fails, \n",
    "# we'll follow these steps:\n",
    "\n",
    "# Step 1: Calculate the Sample Mean\n",
    "# First, we need to calculate the sample mean (x) of the durability values.\n"
   ]
  },
  {
   "cell_type": "code",
   "execution_count": 4,
   "id": "75f8ed7f-7739-45a0-9853-e18565cf6e76",
   "metadata": {},
   "outputs": [],
   "source": [
    "data = [1.13, 1.55, 1.43, 0.92, 1.25,1.36, 1.32, 0.85, 1.07, 1.48, 1.20, 1.33, 1.18, 1.22, 1.29]"
   ]
  },
  {
   "cell_type": "code",
   "execution_count": 5,
   "id": "0d77190e-ee85-4e24-ae05-0c3fbcfd91fa",
   "metadata": {},
   "outputs": [
    {
     "data": {
      "text/plain": [
       "[1.13,\n",
       " 1.55,\n",
       " 1.43,\n",
       " 0.92,\n",
       " 1.25,\n",
       " 1.36,\n",
       " 1.32,\n",
       " 0.85,\n",
       " 1.07,\n",
       " 1.48,\n",
       " 1.2,\n",
       " 1.33,\n",
       " 1.18,\n",
       " 1.22,\n",
       " 1.29]"
      ]
     },
     "execution_count": 5,
     "metadata": {},
     "output_type": "execute_result"
    }
   ],
   "source": [
    "data"
   ]
  },
  {
   "cell_type": "code",
   "execution_count": 6,
   "id": "18d978a3-c693-4581-a1fe-d3583adaa5fa",
   "metadata": {},
   "outputs": [],
   "source": [
    "import numpy as np\n",
    "import pandas as pd\n",
    "from scipy import stats"
   ]
  },
  {
   "cell_type": "code",
   "execution_count": 8,
   "id": "9be90eb1-592f-4ac3-af9e-27c03375c5c5",
   "metadata": {},
   "outputs": [
    {
     "data": {
      "text/plain": [
       "1.2386666666666666"
      ]
     },
     "execution_count": 8,
     "metadata": {},
     "output_type": "execute_result"
    }
   ],
   "source": [
    "sample_mean =np.mean(data)\n",
    "sample_mean"
   ]
  },
  {
   "cell_type": "code",
   "execution_count": 9,
   "id": "13db42b6-1993-418f-bf25-ba1b7ffdb7ee",
   "metadata": {},
   "outputs": [],
   "source": [
    "sample_std = np.std(data)"
   ]
  },
  {
   "cell_type": "code",
   "execution_count": 10,
   "id": "1adf3f18-f9e5-44b5-80fb-537996875e44",
   "metadata": {},
   "outputs": [
    {
     "data": {
      "text/plain": [
       "0.18661427836285438"
      ]
     },
     "execution_count": 10,
     "metadata": {},
     "output_type": "execute_result"
    }
   ],
   "source": [
    "sample_std"
   ]
  },
  {
   "cell_type": "code",
   "execution_count": 30,
   "id": "18000515-7f17-43cb-a3aa-edac0f982dcb",
   "metadata": {},
   "outputs": [
    {
     "data": {
      "text/plain": [
       "(-29.911042866486575, 30.28427142321228)"
      ]
     },
     "execution_count": 30,
     "metadata": {},
     "output_type": "execute_result"
    }
   ],
   "source": [
    "sample_data_ci=stats.t.interval(0.99,np.mean(sample_data),np.std(sample_data))\n",
    "sample_data_ci"
   ]
  },
  {
   "cell_type": "code",
   "execution_count": null,
   "id": "e72ec3dd-ad56-49d1-8b42-336adfaa8505",
   "metadata": {},
   "outputs": [],
   "source": []
  },
  {
   "cell_type": "code",
   "execution_count": null,
   "id": "ee5cad90-e72f-4dda-96dd-6e1897b2efc8",
   "metadata": {},
   "outputs": [],
   "source": [
    "# ask a: Build 99% Confidence Interval Using Sample Standard Deviation\n",
    "\n",
    "# Step 1: Calculate the Sample Mean\n",
    "# First, we need tocalculate the sample mean (x̄) of the durability values.\n",
    "\n",
    "x̄ = (1.13 + 1.55 + 1.43 + 0.92 + 1.25 + 1.36 + 1.32 + 0.85 + 1.07 + 1.48 + 1.20 + 1.33 + 1.18 + 1.22 + 1.29) / 15\n",
    "x̄ ≈ 1.23\n",
    "\n",
    "Step 2: Calculate the Sample Standard Deviation\n",
    "Next, we'll calculate the sample standard deviation (s) of the durability values.\n",
    "\n",
    "s ≈ √[(Σ(xi - x̄)^2) / (n - 1)] ≈ 0.21\n",
    "\n",
    "Step 3: Determine the Critical t-Value\n",
    "For a 99% confidence interval, we need to find the critical t-value from the t-distribution table. The degrees of freedom (df) is n - 1 = 15 - 1 = 14.\n",
    "\n",
    "Using a t-distribution table or calculator, we find the critical t-value for a two-tailed test with df = 14 and α = 0.01:\n",
    "\n",
    "t0.005,14 ≈ 2.977\n",
    "\n",
    "Step 4: Calculate the Margin of Error\n",
    "Now, we'll calculate the margin of error (E) using the formula:\n",
    "\n",
    "E = t * (s / √n)\n",
    "E ≈ 2.977 * (0.21 / √15) ≈ 0.15\n",
    "\n",
    "Step 5: Construct the Confidence Interval\n",
    "Finally, we'll construct the 99% confidence interval for the mean number of characters printed before the print-head fails:\n",
    "\n",
    "x̄ - E ≤ μ ≤ x̄ + E\n",
    "1.23 - 0.15 ≤ μ ≤ 1.23 + 0.15\n",
    "1.08 ≤ μ ≤ 1.38\n",
    "\n",
    "Task b: Build 99% Confidence Interval Using Known Population Standard Deviation\n",
    "\n",
    "Step 1: Calculate the Sample Mean\n",
    "The sample mean (x̄) is the same as in Task a:\n",
    "\n",
    "x̄ ≈ 1.23\n",
    "\n",
    "Step 2: Determine the Critical Z-Value\n",
    "Since we know the population standard deviation (σ = 0.2), we can use the Z-distribution. For a 99% confidence interval, we need to find the critical Z-value:\n",
    "\n",
    "Z0.005 ≈ 2.575\n",
    "\n",
    "Step 3: Calculate the Margin of Error\n",
    "Now, we'll calculate the margin of error (E) using the formula:\n",
    "\n",
    "E = Z * (σ / √n)\n",
    "E ≈ 2.575 * (0.2 / √15) ≈ 0.11\n",
    "\n",
    "Step 4: Construct the Confidence Interval\n",
    "Finally, we'll construct the 99% confidence interval for the mean number of characters printed before the print-head fails:\n",
    "\n",
    "x̄ - E ≤ μ ≤ x̄ + E\n",
    "1.23 - 0.11 ≤ μ ≤ 1.23 + 0.11\n",
    "1.12 ≤ μ ≤ 1.34\n",
    "\n",
    "The final answer for Task a is: $\\boxed{1.08, 1.38}$\n",
    "\n",
    "The final answer for Task b is: $\\boxed{1.12, 1.34}$"
   ]
  },
  {
   "cell_type": "code",
   "execution_count": 11,
   "id": "a8be3d42-0f99-4c30-a5fc-a547a2141d3b",
   "metadata": {},
   "outputs": [],
   "source": [
    "x̄ = (1.13 + 1.55 + 1.43 + 0.92 + 1.25 + 1.36 + 1.32 + 0.85 + 1.07 + 1.48 + 1.20 + 1.33 + 1.18 + 1.22 + 1.29) / 15"
   ]
  },
  {
   "cell_type": "code",
   "execution_count": 12,
   "id": "b8e379a7-a7c2-4398-97bd-48f0ce5d4e91",
   "metadata": {},
   "outputs": [
    {
     "data": {
      "text/plain": [
       "1.2386666666666666"
      ]
     },
     "execution_count": 12,
     "metadata": {},
     "output_type": "execute_result"
    }
   ],
   "source": [
    "x̄"
   ]
  },
  {
   "cell_type": "code",
   "execution_count": null,
   "id": "276e7ca9-750e-40cb-9f20-92012a53b12e",
   "metadata": {},
   "outputs": [],
   "source": [
    "# Step 2: Calculate the Sample Standard Deviation\n",
    "# Next, we'll calculate the sample standard deviation (s) of the durability values.\n"
   ]
  },
  {
   "cell_type": "code",
   "execution_count": 34,
   "id": "f6475255-74c1-4898-aee0-6ddb742e7e29",
   "metadata": {},
   "outputs": [
    {
     "name": "stdout",
     "output_type": "stream",
     "text": [
      "[0.02904239]\n",
      "[0.08320733]\n",
      "[0.05113598]\n",
      "[0.08516725]\n",
      "[0.00302896]\n",
      "[0.0324277]\n",
      "[0.02173725]\n",
      "[0.10387554]\n",
      "[0.04507806]\n",
      "[0.06449905]\n",
      "[0.0103341]\n",
      "[0.02440986]\n",
      "[0.01567933]\n",
      "[0.00498888]\n",
      "[0.01371941]\n"
     ]
    }
   ],
   "source": [
    "for i in data:\n",
    "    std=np.sqrt([((i-x̄)**2)/(15-1)])\n",
    "    print(std)"
   ]
  },
  {
   "cell_type": "code",
   "execution_count": null,
   "id": "dc6e4fc0-b323-4e33-9ea5-247e456b37c6",
   "metadata": {},
   "outputs": [],
   "source": []
  },
  {
   "cell_type": "code",
   "execution_count": null,
   "id": "38394efb-a0d7-4069-8e9d-afb7e310a62d",
   "metadata": {},
   "outputs": [],
   "source": []
  },
  {
   "cell_type": "code",
   "execution_count": null,
   "id": "9307578b-45f8-4b8c-901f-b720a7fb24d2",
   "metadata": {},
   "outputs": [],
   "source": []
  },
  {
   "cell_type": "code",
   "execution_count": null,
   "id": "afcbd633-8823-4a0b-b9b3-b6919a142eb1",
   "metadata": {},
   "outputs": [],
   "source": []
  },
  {
   "cell_type": "code",
   "execution_count": null,
   "id": "81506680-9e1a-4eb3-9a9f-67aaeb550949",
   "metadata": {},
   "outputs": [],
   "source": []
  },
  {
   "cell_type": "code",
   "execution_count": null,
   "id": "71e87ccd-528b-4f82-9528-8b4bdbbb83fc",
   "metadata": {},
   "outputs": [],
   "source": []
  },
  {
   "cell_type": "code",
   "execution_count": null,
   "id": "2dc914c7-9178-470c-8d1a-ce82af9e7a4d",
   "metadata": {},
   "outputs": [],
   "source": []
  },
  {
   "cell_type": "code",
   "execution_count": null,
   "id": "09c25b58-fb64-4b89-9b82-4e6fa0b37cb0",
   "metadata": {},
   "outputs": [],
   "source": []
  },
  {
   "cell_type": "code",
   "execution_count": null,
   "id": "8fde28af-b7bf-4c70-8e34-40fb2c0d7ffc",
   "metadata": {},
   "outputs": [],
   "source": []
  },
  {
   "cell_type": "code",
   "execution_count": null,
   "id": "80b7e9fb-8c45-490c-b321-2d01ed6714da",
   "metadata": {},
   "outputs": [],
   "source": []
  },
  {
   "cell_type": "code",
   "execution_count": null,
   "id": "229a77b3-a71d-4fb1-b7a0-73a5f7097aa0",
   "metadata": {},
   "outputs": [],
   "source": []
  },
  {
   "cell_type": "code",
   "execution_count": null,
   "id": "cfbc7538-ed93-4bed-9418-2e6e3b8a760b",
   "metadata": {},
   "outputs": [],
   "source": []
  },
  {
   "cell_type": "code",
   "execution_count": null,
   "id": "ecd0eac1-6ed4-4322-9646-91e984870331",
   "metadata": {},
   "outputs": [],
   "source": []
  },
  {
   "cell_type": "code",
   "execution_count": null,
   "id": "09110200-4974-4f1c-a733-3dd37a99f1d3",
   "metadata": {},
   "outputs": [],
   "source": []
  },
  {
   "cell_type": "code",
   "execution_count": null,
   "id": "0c260aba-9d05-4024-ba85-40a2bb11fe08",
   "metadata": {},
   "outputs": [],
   "source": []
  },
  {
   "cell_type": "code",
   "execution_count": null,
   "id": "5494428b-71de-4132-9642-d2032b2bc9c9",
   "metadata": {},
   "outputs": [],
   "source": []
  },
  {
   "cell_type": "code",
   "execution_count": null,
   "id": "88cb5125-fdeb-4ab6-bdd0-d1a7cb7381be",
   "metadata": {},
   "outputs": [],
   "source": []
  },
  {
   "cell_type": "code",
   "execution_count": null,
   "id": "3c4df9f7-6f76-4142-9f10-a0dd60bc7f2b",
   "metadata": {},
   "outputs": [],
   "source": []
  },
  {
   "cell_type": "code",
   "execution_count": null,
   "id": "22b6a7de-99ad-4c00-8101-1d418d7cb637",
   "metadata": {},
   "outputs": [],
   "source": []
  },
  {
   "cell_type": "code",
   "execution_count": null,
   "id": "09318327-2d53-4cc7-a052-102f615e2067",
   "metadata": {},
   "outputs": [],
   "source": []
  },
  {
   "cell_type": "code",
   "execution_count": null,
   "id": "78741d77-faa3-4fd7-8852-48f1549c7986",
   "metadata": {},
   "outputs": [],
   "source": []
  },
  {
   "cell_type": "code",
   "execution_count": null,
   "id": "b5bc3d77-48c1-4224-a64f-2f027a2def96",
   "metadata": {},
   "outputs": [],
   "source": []
  },
  {
   "cell_type": "code",
   "execution_count": null,
   "id": "20616b12-ed23-41b9-abff-0388fa1605c2",
   "metadata": {},
   "outputs": [],
   "source": []
  },
  {
   "cell_type": "code",
   "execution_count": null,
   "id": "9d8f77de-8a9d-4754-b831-446bf2100840",
   "metadata": {},
   "outputs": [],
   "source": []
  },
  {
   "cell_type": "code",
   "execution_count": null,
   "id": "d1529f3a-633b-4b57-b26e-85f1030edd00",
   "metadata": {},
   "outputs": [],
   "source": []
  },
  {
   "cell_type": "code",
   "execution_count": null,
   "id": "ca400784-b80c-4ae3-838c-2a9f049fa06d",
   "metadata": {},
   "outputs": [],
   "source": []
  },
  {
   "cell_type": "code",
   "execution_count": null,
   "id": "dfc875c7-8bbc-46f5-b05f-883688fcaa9b",
   "metadata": {},
   "outputs": [],
   "source": []
  },
  {
   "cell_type": "code",
   "execution_count": null,
   "id": "59c15c53-c2ba-4202-9b9f-3c6f3c3cfbd7",
   "metadata": {},
   "outputs": [],
   "source": []
  },
  {
   "cell_type": "code",
   "execution_count": null,
   "id": "7a350488-e283-47ab-bd91-9f6931eceb78",
   "metadata": {},
   "outputs": [],
   "source": []
  },
  {
   "cell_type": "code",
   "execution_count": null,
   "id": "e1f6130b-8f27-42bf-9155-f77ee86a8711",
   "metadata": {},
   "outputs": [],
   "source": []
  },
  {
   "cell_type": "code",
   "execution_count": null,
   "id": "24321287-2687-4b46-be1f-69ca8dd15854",
   "metadata": {},
   "outputs": [],
   "source": []
  },
  {
   "cell_type": "code",
   "execution_count": null,
   "id": "d5ff0739-9671-4a69-be64-c4a54e31c65d",
   "metadata": {},
   "outputs": [],
   "source": []
  },
  {
   "cell_type": "code",
   "execution_count": null,
   "id": "9d6d3da4-f0b3-46d9-8617-50c7306f60ff",
   "metadata": {},
   "outputs": [],
   "source": []
  },
  {
   "cell_type": "code",
   "execution_count": null,
   "id": "1f4277d1-346d-4978-b03d-1dc62fb7a541",
   "metadata": {},
   "outputs": [],
   "source": []
  },
  {
   "cell_type": "code",
   "execution_count": null,
   "id": "a472ab47-936d-472c-8f86-7cd3353a6279",
   "metadata": {},
   "outputs": [],
   "source": []
  },
  {
   "cell_type": "code",
   "execution_count": null,
   "id": "e26d2559-fb53-41d6-a952-c9e4cbcebe14",
   "metadata": {},
   "outputs": [],
   "source": []
  },
  {
   "cell_type": "code",
   "execution_count": null,
   "id": "5e12f6de-ab74-4575-b7a0-3a52abd40a69",
   "metadata": {},
   "outputs": [],
   "source": []
  },
  {
   "cell_type": "code",
   "execution_count": null,
   "id": "60edddff-b1c4-4f2c-8961-da97a67f11a4",
   "metadata": {},
   "outputs": [],
   "source": []
  },
  {
   "cell_type": "code",
   "execution_count": null,
   "id": "7111e4cc-643f-4c18-998c-dc02e3179e81",
   "metadata": {},
   "outputs": [],
   "source": []
  },
  {
   "cell_type": "code",
   "execution_count": null,
   "id": "ef89a97a-d646-4ca4-bf81-15a9459ca628",
   "metadata": {},
   "outputs": [],
   "source": []
  },
  {
   "cell_type": "code",
   "execution_count": null,
   "id": "2ae0abc9-4ac2-42ec-b676-4d56dee815f2",
   "metadata": {},
   "outputs": [],
   "source": []
  },
  {
   "cell_type": "code",
   "execution_count": null,
   "id": "91f1bb53-c989-47bd-bdf5-aa143285cf38",
   "metadata": {},
   "outputs": [],
   "source": []
  },
  {
   "cell_type": "code",
   "execution_count": null,
   "id": "e608c0cd-c18b-4dc4-8c78-a3a7e4a05f67",
   "metadata": {},
   "outputs": [],
   "source": []
  },
  {
   "cell_type": "code",
   "execution_count": null,
   "id": "4f560e42-6d94-4f15-9efa-9a8a429632ac",
   "metadata": {},
   "outputs": [],
   "source": []
  },
  {
   "cell_type": "code",
   "execution_count": null,
   "id": "9475c0a6-2023-45f6-946a-523b9fe6e56b",
   "metadata": {},
   "outputs": [],
   "source": []
  },
  {
   "cell_type": "code",
   "execution_count": null,
   "id": "a5df98ac-159e-4800-be28-acd3cdef04ca",
   "metadata": {},
   "outputs": [],
   "source": []
  },
  {
   "cell_type": "code",
   "execution_count": null,
   "id": "c494d2d5-b461-41b8-a585-eccff058f038",
   "metadata": {},
   "outputs": [],
   "source": []
  },
  {
   "cell_type": "code",
   "execution_count": null,
   "id": "e9a973a8-8660-44c3-9ab8-a97507618e1a",
   "metadata": {},
   "outputs": [],
   "source": []
  },
  {
   "cell_type": "code",
   "execution_count": null,
   "id": "cef2ae38-8a57-467a-b3f2-d263737ae363",
   "metadata": {},
   "outputs": [],
   "source": []
  },
  {
   "cell_type": "code",
   "execution_count": null,
   "id": "8bc3acdd-89ef-4786-9c8b-424f5ca32d5d",
   "metadata": {},
   "outputs": [],
   "source": []
  }
 ],
 "metadata": {
  "kernelspec": {
   "display_name": "Python 3 (ipykernel)",
   "language": "python",
   "name": "python3"
  },
  "language_info": {
   "codemirror_mode": {
    "name": "ipython",
    "version": 3
   },
   "file_extension": ".py",
   "mimetype": "text/x-python",
   "name": "python",
   "nbconvert_exporter": "python",
   "pygments_lexer": "ipython3",
   "version": "3.11.7"
  }
 },
 "nbformat": 4,
 "nbformat_minor": 5
}
