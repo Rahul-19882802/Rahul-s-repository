{
 "cells": [
  {
   "cell_type": "markdown",
   "id": "8e281a31-3f24-4c3f-bd93-299151c622a0",
   "metadata": {},
   "source": [
    "## PYTHON PROGRAMMING \n",
    "## Coding Exercises"
   ]
  },
  {
   "cell_type": "markdown",
   "id": "8c652c48-47a8-4a9f-998f-8d181289c35f",
   "metadata": {},
   "source": [
    "## Exercise 1: Prime Numbers"
   ]
  },
  {
   "cell_type": "markdown",
   "id": "a942525f-d304-4fc3-9fb1-fb67cc7f3e5a",
   "metadata": {},
   "source": [
    "Write a Python program that checks whether a given number is prime or not.\n",
    "A prime number is a natural number greater than 1 that has no positive divisors other than 1 and itself."
   ]
  },
  {
   "cell_type": "code",
   "execution_count": 4,
   "id": "5ca73126-f011-4f90-ace1-051f17b71b6b",
   "metadata": {},
   "outputs": [
    {
     "name": "stdin",
     "output_type": "stream",
     "text": [
      "Enter a number:  1\n"
     ]
    },
    {
     "name": "stdout",
     "output_type": "stream",
     "text": [
      "1 is not a prime number.\n"
     ]
    }
   ],
   "source": [
    "def is_prime(n):\n",
    "    \"\"\"\n",
    "    Checks if a number is prime.\n",
    "\n",
    "    Args:\n",
    "        n (int): The number to check.\n",
    "\n",
    "    Returns:\n",
    "        bool: True if the number is prime, False otherwise.\n",
    "    \"\"\"\n",
    "    if n <= 1:\n",
    "        return False\n",
    "    for i in range(2, int(n ** 0.5) + 1):\n",
    "        if n % i == 0:\n",
    "            return False\n",
    "    return True\n",
    "\n",
    "# Example usage:\n",
    "num = int(input(\"Enter a number: \"))\n",
    "if is_prime(num):\n",
    "    print(f\"{num} is a prime number.\")\n",
    "else:\n",
    "    print(f\"{num} is not a prime number.\")\n"
   ]
  },
  {
   "cell_type": "markdown",
   "id": "68dbfeb7-0fad-498e-8846-2610c31349ff",
   "metadata": {},
   "source": [
    "## Exercise 2: Product of Random Numbers"
   ]
  },
  {
   "cell_type": "markdown",
   "id": "f4ca090d-6233-4291-88ea-87cf0c9e3c80",
   "metadata": {},
   "source": [
    "Develop a Python program that generates two random numbers and asks the user to enter the product of these numbers.\n",
    "The program should then check if the user's answer is correct and display an appropriate message."
   ]
  },
  {
   "cell_type": "code",
   "execution_count": null,
   "id": "c037e5ce-7848-4002-8b4b-82aa0c3d6b3c",
   "metadata": {},
   "outputs": [],
   "source": [
    "import random\n",
    "\n",
    "def math_game():\n",
    "    # Generate two random numbers\n",
    "    num1 = random.randint(1, 10)\n",
    "    num2 = random.randint(1, 10)\n",
    "\n",
    "    # Ask the user to enter the product of the numbers\n",
    "    print(f\"What is {num1} x {num2}?\")\n",
    "    user_answer = int(input(\"Enter your answer: \"))\n",
    "\n",
    "    # Check if the user's answer is correct\n",
    "    correct_answer = num1 * num2\n",
    "    if user_answer == correct_answer:\n",
    "        print(\"Correct! Well done.\")\n",
    "    else:\n",
    "        print(f\"Sorry, that's incorrect. The correct answer is {correct_answer}.\")\n",
    "\n",
    "# Run the math game\n",
    "math_game()\n",
    "\n"
   ]
  },
  {
   "cell_type": "markdown",
   "id": "11c7f310-8e1e-4242-b65a-42fac3662222",
   "metadata": {},
   "source": [
    "## Exercise 3: Squares of Even/Odd Numbers"
   ]
  },
  {
   "cell_type": "markdown",
   "id": "452a396c-8314-41f2-84ec-a991ce529144",
   "metadata": {},
   "source": [
    "Create a Python script that prints the squares of all even or odd numbers within the range of 100 to 200. \n",
    "Choose either even or odd numbers and document your choice in the code."
   ]
  },
  {
   "cell_type": "code",
   "execution_count": 9,
   "id": "41916462-e36b-48a0-a3db-61fef278b842",
   "metadata": {},
   "outputs": [
    {
     "name": "stdin",
     "output_type": "stream",
     "text": [
      "Enter 'even' or 'odd':  7\n"
     ]
    },
    {
     "ename": "ValueError",
     "evalue": "Parity must be 'even' or 'odd'",
     "output_type": "error",
     "traceback": [
      "\u001b[1;31m---------------------------------------------------------------------------\u001b[0m",
      "\u001b[1;31mValueError\u001b[0m                                Traceback (most recent call last)",
      "Cell \u001b[1;32mIn[9], line 19\u001b[0m\n\u001b[0;32m     17\u001b[0m \u001b[38;5;66;03m# Example usage:\u001b[39;00m\n\u001b[0;32m     18\u001b[0m parity \u001b[38;5;241m=\u001b[39m \u001b[38;5;28minput\u001b[39m(\u001b[38;5;124m\"\u001b[39m\u001b[38;5;124mEnter \u001b[39m\u001b[38;5;124m'\u001b[39m\u001b[38;5;124meven\u001b[39m\u001b[38;5;124m'\u001b[39m\u001b[38;5;124m or \u001b[39m\u001b[38;5;124m'\u001b[39m\u001b[38;5;124modd\u001b[39m\u001b[38;5;124m'\u001b[39m\u001b[38;5;124m: \u001b[39m\u001b[38;5;124m\"\u001b[39m)\n\u001b[1;32m---> 19\u001b[0m print_squares(\u001b[38;5;241m100\u001b[39m, \u001b[38;5;241m200\u001b[39m, parity)\n",
      "Cell \u001b[1;32mIn[9], line 11\u001b[0m, in \u001b[0;36mprint_squares\u001b[1;34m(start, end, parity)\u001b[0m\n\u001b[0;32m      2\u001b[0m \u001b[38;5;250m\u001b[39m\u001b[38;5;124;03m\"\"\"\u001b[39;00m\n\u001b[0;32m      3\u001b[0m \u001b[38;5;124;03mPrints the squares of all numbers with the specified parity within the given range.\u001b[39;00m\n\u001b[0;32m      4\u001b[0m \n\u001b[1;32m   (...)\u001b[0m\n\u001b[0;32m      8\u001b[0m \u001b[38;5;124;03m    parity (str): 'even' or 'odd' to specify the parity of numbers to print.\u001b[39;00m\n\u001b[0;32m      9\u001b[0m \u001b[38;5;124;03m\"\"\"\u001b[39;00m\n\u001b[0;32m     10\u001b[0m \u001b[38;5;28;01mif\u001b[39;00m parity\u001b[38;5;241m.\u001b[39mlower() \u001b[38;5;129;01mnot\u001b[39;00m \u001b[38;5;129;01min\u001b[39;00m [\u001b[38;5;124m'\u001b[39m\u001b[38;5;124meven\u001b[39m\u001b[38;5;124m'\u001b[39m, \u001b[38;5;124m'\u001b[39m\u001b[38;5;124modd\u001b[39m\u001b[38;5;124m'\u001b[39m]:\n\u001b[1;32m---> 11\u001b[0m     \u001b[38;5;28;01mraise\u001b[39;00m \u001b[38;5;167;01mValueError\u001b[39;00m(\u001b[38;5;124m\"\u001b[39m\u001b[38;5;124mParity must be \u001b[39m\u001b[38;5;124m'\u001b[39m\u001b[38;5;124meven\u001b[39m\u001b[38;5;124m'\u001b[39m\u001b[38;5;124m or \u001b[39m\u001b[38;5;124m'\u001b[39m\u001b[38;5;124modd\u001b[39m\u001b[38;5;124m'\u001b[39m\u001b[38;5;124m\"\u001b[39m)\n\u001b[0;32m     13\u001b[0m \u001b[38;5;28;01mfor\u001b[39;00m num \u001b[38;5;129;01min\u001b[39;00m \u001b[38;5;28mrange\u001b[39m(start, end \u001b[38;5;241m+\u001b[39m \u001b[38;5;241m1\u001b[39m):\n\u001b[0;32m     14\u001b[0m     \u001b[38;5;28;01mif\u001b[39;00m (num \u001b[38;5;241m%\u001b[39m \u001b[38;5;241m2\u001b[39m \u001b[38;5;241m==\u001b[39m \u001b[38;5;241m0\u001b[39m \u001b[38;5;129;01mand\u001b[39;00m parity\u001b[38;5;241m.\u001b[39mlower() \u001b[38;5;241m==\u001b[39m \u001b[38;5;124m'\u001b[39m\u001b[38;5;124meven\u001b[39m\u001b[38;5;124m'\u001b[39m) \u001b[38;5;129;01mor\u001b[39;00m (num \u001b[38;5;241m%\u001b[39m \u001b[38;5;241m2\u001b[39m \u001b[38;5;241m!=\u001b[39m \u001b[38;5;241m0\u001b[39m \u001b[38;5;129;01mand\u001b[39;00m parity\u001b[38;5;241m.\u001b[39mlower() \u001b[38;5;241m==\u001b[39m \u001b[38;5;124m'\u001b[39m\u001b[38;5;124modd\u001b[39m\u001b[38;5;124m'\u001b[39m):\n",
      "\u001b[1;31mValueError\u001b[0m: Parity must be 'even' or 'odd'"
     ]
    }
   ],
   "source": [
    "def print_squares(start, end, parity):\n",
    "    \"\"\"\n",
    "    Prints the squares of all numbers with the specified parity within the given range.\n",
    "\n",
    "    Args:\n",
    "        start (int): The start of the range (inclusive).\n",
    "        end (int): The end of the range (inclusive).\n",
    "        parity (str): 'even' or 'odd' to specify the parity of numbers to print.\n",
    "    \"\"\"\n",
    "    if parity.lower() not in ['even', 'odd']:\n",
    "        raise ValueError(\"Parity must be 'even' or 'odd'\")\n",
    "\n",
    "    for num in range(start, end + 1):\n",
    "        if (num % 2 == 0 and parity.lower() == 'even') or (num % 2 != 0 and parity.lower() == 'odd'):\n",
    "            print(f\"{num}^2 = {num ** 2}\")\n",
    "\n",
    "# Example usage:\n",
    "parity = input(\"Enter 'even' or 'odd': \")\n",
    "print_squares(100, 200, parity)\n"
   ]
  },
  {
   "cell_type": "markdown",
   "id": "b9ae8992-e5bb-4fb3-9d2b-ea8a477b8f22",
   "metadata": {},
   "source": [
    "## Exercise 4: Word counter"
   ]
  },
  {
   "cell_type": "markdown",
   "id": "dcf08343-c01b-441b-9be1-18263eec32e0",
   "metadata": {},
   "source": [
    "write a program to count the number of words in a given text.\n",
    "example:\n",
    "input_text = \"This is a sample text. This text will be used to demonstrate the word counter.\"\n",
    "##### Expected output:\n",
    "##### 'This': 2 \n",
    "##### 'is': 1\n",
    "##### 'a': 1\n",
    "##### 'sample': 1\n",
    "##### 'text.': 1\n"
   ]
  },
  {
   "cell_type": "code",
   "execution_count": 12,
   "id": "cb834a91-883f-4b30-8f5d-d210571a167e",
   "metadata": {},
   "outputs": [],
   "source": [
    "def count_words(input_text):\n",
    "    \"\"\"\n",
    "    Counts the number of occurrences of each word in a given text.\n",
    "\n",
    "    Args:\n",
    "        input_text (str): The input text.\n",
    "\n",
    "    Returns:\n",
    "        dict: A dictionary where the keys are the unique words and the values are their respective counts.\n",
    "    \"\"\"\n",
    "    # Convert the text to lowercase and split it into words\n",
    "    words = input_text.lower().split()\n",
    "\n",
    "    # Remove punctuation from each word\n",
    "    words = [''.join(c for c in word if c.isalnum()) for word in words]\n",
    "\n",
    "    # Count the occurrences of each word using a dictionary\n",
    "    word_counts = {}\n",
    "    for word in words:\n",
    "        if word in word_counts:\n",
    "            word_counts[word] += 1\n",
    "        else:\n",
    "            word_counts[word] = 1\n",
    "\n",
    "    return word_counts\n",
    "\n",
    "# Example usage:\n"
   ]
  },
  {
   "cell_type": "markdown",
   "id": "931bce5e-cc1f-4374-a482-8781376ff907",
   "metadata": {},
   "source": [
    "## Exercise 5: Check for Palindrome"
   ]
  },
  {
   "cell_type": "markdown",
   "id": "72806f60-0bf6-4ffd-af1e-ba4ba01c9c60",
   "metadata": {},
   "source": [
    "##### Write a Python function called is_palindrome that takes a string as input and returns True if the string is a palindrome,\n",
    "##### and False otherwise. A palindrome is a word, phrase,\n",
    "##### number, or other sequence of characters that reads the same forward and backward,\n",
    "##### ignoring spaces, punctuation, and capitalization."
   ]
  },
  {
   "cell_type": "code",
   "execution_count": 11,
   "id": "6e3e6854-f2c7-4a77-92d5-e02a6f469ec8",
   "metadata": {},
   "outputs": [],
   "source": [
    "def is_palindrome(s):\n",
    "    \"\"\"\n",
    "    Checks if a given string is a palindrome.\n",
    "\n",
    "    Args:\n",
    "        s (str): The input string.\n",
    "\n",
    "    Returns:\n",
    "        bool: True if the string is a palindrome, False otherwise.\n",
    "    \"\"\"\n",
    "    # Remove spaces and punctuation, and convert to lowercase\n",
    "    s = ''.join(c for c in s if c.isalnum()).lower()\n",
    "    \n",
    "    # Compare the string with its reverse\n",
    "    return s == s[::-1]\n",
    "#Example:\n",
    "#Input: \"racecar\"\n",
    "#Expected Output: True\n",
    "\n"
   ]
  },
  {
   "cell_type": "code",
   "execution_count": null,
   "id": "51d67266-d997-4966-a367-8e1f8b9a8f6f",
   "metadata": {},
   "outputs": [],
   "source": []
  },
  {
   "cell_type": "code",
   "execution_count": null,
   "id": "15c4c43f-f552-4dcf-84df-c0e272d49c51",
   "metadata": {},
   "outputs": [],
   "source": []
  },
  {
   "cell_type": "code",
   "execution_count": null,
   "id": "3d9b957d-643e-46ae-bf03-2ef20644571d",
   "metadata": {},
   "outputs": [],
   "source": []
  },
  {
   "cell_type": "code",
   "execution_count": null,
   "id": "a149686a-333c-4057-a7d3-071ec61a1264",
   "metadata": {},
   "outputs": [],
   "source": []
  },
  {
   "cell_type": "code",
   "execution_count": null,
   "id": "a141c52c-1c9a-4fd0-b85c-a169f5e168de",
   "metadata": {},
   "outputs": [],
   "source": []
  }
 ],
 "metadata": {
  "kernelspec": {
   "display_name": "Python 3 (ipykernel)",
   "language": "python",
   "name": "python3"
  },
  "language_info": {
   "codemirror_mode": {
    "name": "ipython",
    "version": 3
   },
   "file_extension": ".py",
   "mimetype": "text/x-python",
   "name": "python",
   "nbconvert_exporter": "python",
   "pygments_lexer": "ipython3",
   "version": "3.11.7"
  }
 },
 "nbformat": 4,
 "nbformat_minor": 5
}
