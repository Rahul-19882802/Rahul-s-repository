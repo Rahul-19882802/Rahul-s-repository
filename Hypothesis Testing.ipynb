{
 "cells": [
  {
   "cell_type": "markdown",
   "id": "dfb4f562-91fa-49d3-8ab6-974995078419",
   "metadata": {},
   "source": [
    "## ***HYPOTHESIS TESTING***\n",
    "**Background:**\n",
    "Bombay hospitality Ltd. operates a franchise model for producing exotic Norwegian dinners throughout New England. The operating cost for a franchise in a week (W) is given by the equation W = $1,000 + $5X, where X represents the number of units produced in a week. Recent feedback from restaurant owners suggests that this cost model may no longer be accurate, as their observed weekly operating costs are higher.\n",
    "\n",
    "**Objective:**\n",
    "To investigate the restaurant owners' claim about the increase in weekly operating costs using hypothesis testing.\n",
    "Data Provided:\n",
    "\n",
    "•\tThe theoretical weekly operating cost model: W = $1,000 + $5X\n",
    "•\tSample of 25 restaurants with a mean weekly cost of Rs. 3,050\n",
    "•\tNumber of units produced in a week (X) follows a normal distribution with a mean (μ) of 600 units and a standard deviation (σ) of 25 units\n",
    "\n",
    "**Assignment Tasks:**\n",
    "\n",
    "**1. State the Hypotheses statement:**\n",
    "\n",
    "**2. Calculate the Test Statistic:**\n",
    "\n",
    "Use the following formula to calculate the test statistic (t):\n",
    "where:\n",
    "\n",
    "•\tˉxˉ = sample mean weekly cost (Rs. 3,050)\n",
    "•\tμ = theoretical mean weekly cost according to the cost model (W = $1,000 + $5X for X = 600 units)\n",
    "•\tσ = 5*25 units\n",
    "•\tn = sample size (25 restaurants)\n",
    "\n",
    "**3. Determine the Critical Value:**\n",
    "\n",
    "Using the alpha level of 5% (α = 0.05), determine the critical value from the standard normal (Z) distribution table.\n",
    "\n",
    "**4. Make a Decision:**\n",
    "\n",
    "Compare the test statistic with the critical value to decide whether to reject the null hypothesis.\n",
    "\n",
    "**5. Conclusion:**\n",
    "\n",
    "Based on the decision in step 4, conclude whether there is strong evidence to support the restaurant owners' claim that the weekly operating costs are higher than the model suggests.\n",
    "\n",
    "\n",
    "**Submission Guidelines:**\n",
    "\n",
    "•\tPrepare python file detailing each step of your hypothesis testing process.\n",
    "•\tInclude calculations for the test statistic and the critical value.\n",
    "•\tProvide a clear conclusion based on your analysis.\n",
    "\n"
   ]
  },
  {
   "cell_type": "code",
   "execution_count": null,
   "id": "6911e9c2-83ad-4018-bc29-e60b4a6a491c",
   "metadata": {},
   "outputs": [],
   "source": []
  },
  {
   "cell_type": "code",
   "execution_count": 1,
   "id": "6261a977-7feb-4788-86ed-a71ebda4fdea",
   "metadata": {},
   "outputs": [
    {
     "name": "stdout",
     "output_type": "stream",
     "text": [
      "Fail to reject the null hypothesis. There is no strong evidence to support the restaurant owners' claim that the weekly operating costs are higher than the model suggests.\n",
      "Test Statistic: -38.0\n",
      "Critical Value: 1.6448536269514722\n"
     ]
    }
   ],
   "source": [
    "import numpy as np\n",
    "from scipy import stats\n",
    "\n",
    "# Given values\n",
    "sample_mean = 3050\n",
    "theoretical_mean = 1000 + 5 * 600\n",
    "std_dev = 5 * 25\n",
    "sample_size = 25\n",
    "alpha = 0.05\n",
    "\n",
    "# Calculate the test statistic (t)\n",
    "test_statistic = (sample_mean - theoretical_mean) / (std_dev / np.sqrt(sample_size))\n",
    "\n",
    "# Determine the critical value from the standard normal (Z) distribution table\n",
    "critical_value = stats.norm.ppf(1 - alpha)\n",
    "\n",
    "# Make a decision\n",
    "if test_statistic > critical_value:\n",
    "    print(\"Reject the null hypothesis. There is strong evidence to support the restaurant owners' claim that the weekly operating costs are higher than the model suggests.\")\n",
    "else:\n",
    "    print(\"Fail to reject the null hypothesis. There is no strong evidence to support the restaurant owners' claim that the weekly operating costs are higher than the model suggests.\")\n",
    "\n",
    "print(f\"Test Statistic: {test_statistic}\")\n",
    "print(f\"Critical Value: {critical_value}\")\n",
    "\n"
   ]
  },
  {
   "cell_type": "code",
   "execution_count": null,
   "id": "e1ff134b-1bc6-45d5-89e2-96c83ef84e28",
   "metadata": {},
   "outputs": [],
   "source": []
  },
  {
   "cell_type": "code",
   "execution_count": null,
   "id": "68a8ab39-a43f-48ba-8444-b64d63057325",
   "metadata": {},
   "outputs": [],
   "source": []
  },
  {
   "cell_type": "code",
   "execution_count": null,
   "id": "16e08620-4986-4534-917c-2aa61752944d",
   "metadata": {},
   "outputs": [],
   "source": []
  },
  {
   "cell_type": "code",
   "execution_count": null,
   "id": "f9bf7025-fa8f-40d5-817d-1dc0a1145a6f",
   "metadata": {},
   "outputs": [],
   "source": []
  },
  {
   "cell_type": "code",
   "execution_count": null,
   "id": "3b4400f2-efef-4801-8711-6089f92dd809",
   "metadata": {},
   "outputs": [],
   "source": []
  },
  {
   "cell_type": "code",
   "execution_count": null,
   "id": "54647e71-7f4d-4414-902f-a53482eb5566",
   "metadata": {},
   "outputs": [],
   "source": []
  },
  {
   "cell_type": "code",
   "execution_count": null,
   "id": "febd8134-87aa-45e8-a6c7-3fd2f73f77b7",
   "metadata": {},
   "outputs": [],
   "source": []
  },
  {
   "cell_type": "code",
   "execution_count": null,
   "id": "bc295d11-3a7d-4e74-a682-5f62fd44970b",
   "metadata": {},
   "outputs": [],
   "source": []
  },
  {
   "cell_type": "code",
   "execution_count": null,
   "id": "f9408ac5-faf5-4ac6-bf94-c6866a9cf5ba",
   "metadata": {},
   "outputs": [],
   "source": []
  },
  {
   "cell_type": "code",
   "execution_count": null,
   "id": "308d01c8-2b9e-4a3e-b1b3-ced5cfc0a63a",
   "metadata": {},
   "outputs": [],
   "source": []
  },
  {
   "cell_type": "code",
   "execution_count": null,
   "id": "68a4d9a3-ae83-438a-bea6-9b6d4456ed41",
   "metadata": {},
   "outputs": [],
   "source": []
  }
 ],
 "metadata": {
  "kernelspec": {
   "display_name": "Python 3 (ipykernel)",
   "language": "python",
   "name": "python3"
  },
  "language_info": {
   "codemirror_mode": {
    "name": "ipython",
    "version": 3
   },
   "file_extension": ".py",
   "mimetype": "text/x-python",
   "name": "python",
   "nbconvert_exporter": "python",
   "pygments_lexer": "ipython3",
   "version": "3.11.7"
  }
 },
 "nbformat": 4,
 "nbformat_minor": 5
}
