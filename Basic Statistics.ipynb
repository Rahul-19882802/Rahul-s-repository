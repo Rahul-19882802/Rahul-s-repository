{
 "cells": [
  {
   "cell_type": "markdown",
   "id": "277c992c-4b80-457c-bc30-a7bc9a771e2c",
   "metadata": {},
   "source": [
    "# Basic Statistics"
   ]
  },
  {
   "cell_type": "markdown",
   "id": "abefb874-dc7d-40bb-9e98-9e9607782c0f",
   "metadata": {},
   "source": [
    "## Descriptive Analytics and Data Preprocessing on Sales & Discounts Dataset\n",
    "### Introduction\n",
    "\n",
    "#### ●\tTo perform descriptive analytics, visualize data distributions, and preprocess the dataset for further analysis.\n"
   ]
  },
  {
   "cell_type": "markdown",
   "id": "98b81482-9da3-42fb-a577-250ab59a97f7",
   "metadata": {},
   "source": [
    "### Descriptive Analytics for Numerical Columns\n",
    "##### ●\tObjective: To compute and analyze basic statistical measures for numerical columns in the dataset.\n",
    "##### ●\tSteps:\n",
    "\tLoad the dataset into a data analysis tool or programming environment (e.g., Python with pandas library).\n",
    "\tIdentify numerical columns in the dataset.\n",
    "\tCalculate the mean, median, mode, and standard deviation for these columns.\n",
    "\tProvide a brief interpretation of these statistics.\n"
   ]
  },
  {
   "cell_type": "code",
   "execution_count": 1,
   "id": "715eef37-4042-419c-bdbf-e11f006ca85d",
   "metadata": {},
   "outputs": [],
   "source": [
    "import pandas as pd\n",
    "import numpy as np \n",
    "import matplotlib.pyplot as plt\n",
    "import seaborn as sns\n"
   ]
  },
  {
   "cell_type": "code",
   "execution_count": 128,
   "id": "f6953cc5-8e5c-415b-bed7-45eecc611c1f",
   "metadata": {},
   "outputs": [],
   "source": [
    "df = pd.read_csv('sales_data_with_discounts.csv')"
   ]
  },
  {
   "cell_type": "code",
   "execution_count": 115,
   "id": "dc8a9655-e878-404a-bc99-4ab40e423e96",
   "metadata": {},
   "outputs": [
    {
     "data": {
      "text/html": [
       "<div>\n",
       "<style scoped>\n",
       "    .dataframe tbody tr th:only-of-type {\n",
       "        vertical-align: middle;\n",
       "    }\n",
       "\n",
       "    .dataframe tbody tr th {\n",
       "        vertical-align: top;\n",
       "    }\n",
       "\n",
       "    .dataframe thead th {\n",
       "        text-align: right;\n",
       "    }\n",
       "</style>\n",
       "<table border=\"1\" class=\"dataframe\">\n",
       "  <thead>\n",
       "    <tr style=\"text-align: right;\">\n",
       "      <th></th>\n",
       "      <th>Date</th>\n",
       "      <th>Day</th>\n",
       "      <th>SKU</th>\n",
       "      <th>City</th>\n",
       "      <th>Volume</th>\n",
       "      <th>BU</th>\n",
       "      <th>Brand</th>\n",
       "      <th>Model</th>\n",
       "      <th>Avg Price</th>\n",
       "      <th>Total Sales Value</th>\n",
       "      <th>Discount Rate (%)</th>\n",
       "      <th>Discount Amount</th>\n",
       "      <th>Net Sales Value</th>\n",
       "    </tr>\n",
       "  </thead>\n",
       "  <tbody>\n",
       "    <tr>\n",
       "      <th>0</th>\n",
       "      <td>01-04-2021</td>\n",
       "      <td>Thursday</td>\n",
       "      <td>M01</td>\n",
       "      <td>C</td>\n",
       "      <td>15</td>\n",
       "      <td>Mobiles</td>\n",
       "      <td>RealU</td>\n",
       "      <td>RU-10</td>\n",
       "      <td>12100</td>\n",
       "      <td>181500</td>\n",
       "      <td>11.654820</td>\n",
       "      <td>21153.498820</td>\n",
       "      <td>160346.501180</td>\n",
       "    </tr>\n",
       "    <tr>\n",
       "      <th>1</th>\n",
       "      <td>01-04-2021</td>\n",
       "      <td>Thursday</td>\n",
       "      <td>M02</td>\n",
       "      <td>C</td>\n",
       "      <td>10</td>\n",
       "      <td>Mobiles</td>\n",
       "      <td>RealU</td>\n",
       "      <td>RU-9 Plus</td>\n",
       "      <td>10100</td>\n",
       "      <td>101000</td>\n",
       "      <td>11.560498</td>\n",
       "      <td>11676.102961</td>\n",
       "      <td>89323.897039</td>\n",
       "    </tr>\n",
       "    <tr>\n",
       "      <th>2</th>\n",
       "      <td>01-04-2021</td>\n",
       "      <td>Thursday</td>\n",
       "      <td>M03</td>\n",
       "      <td>C</td>\n",
       "      <td>7</td>\n",
       "      <td>Mobiles</td>\n",
       "      <td>YouM</td>\n",
       "      <td>YM-99</td>\n",
       "      <td>16100</td>\n",
       "      <td>112700</td>\n",
       "      <td>9.456886</td>\n",
       "      <td>10657.910157</td>\n",
       "      <td>102042.089843</td>\n",
       "    </tr>\n",
       "    <tr>\n",
       "      <th>3</th>\n",
       "      <td>01-04-2021</td>\n",
       "      <td>Thursday</td>\n",
       "      <td>M04</td>\n",
       "      <td>C</td>\n",
       "      <td>6</td>\n",
       "      <td>Mobiles</td>\n",
       "      <td>YouM</td>\n",
       "      <td>YM-99 Plus</td>\n",
       "      <td>20100</td>\n",
       "      <td>120600</td>\n",
       "      <td>6.935385</td>\n",
       "      <td>8364.074702</td>\n",
       "      <td>112235.925298</td>\n",
       "    </tr>\n",
       "    <tr>\n",
       "      <th>4</th>\n",
       "      <td>01-04-2021</td>\n",
       "      <td>Thursday</td>\n",
       "      <td>M05</td>\n",
       "      <td>C</td>\n",
       "      <td>3</td>\n",
       "      <td>Mobiles</td>\n",
       "      <td>YouM</td>\n",
       "      <td>YM-98</td>\n",
       "      <td>8100</td>\n",
       "      <td>24300</td>\n",
       "      <td>17.995663</td>\n",
       "      <td>4372.946230</td>\n",
       "      <td>19927.053770</td>\n",
       "    </tr>\n",
       "  </tbody>\n",
       "</table>\n",
       "</div>"
      ],
      "text/plain": [
       "         Date       Day  SKU City  Volume       BU  Brand       Model  \\\n",
       "0  01-04-2021  Thursday  M01    C      15  Mobiles  RealU       RU-10   \n",
       "1  01-04-2021  Thursday  M02    C      10  Mobiles  RealU   RU-9 Plus   \n",
       "2  01-04-2021  Thursday  M03    C       7  Mobiles   YouM       YM-99   \n",
       "3  01-04-2021  Thursday  M04    C       6  Mobiles   YouM  YM-99 Plus   \n",
       "4  01-04-2021  Thursday  M05    C       3  Mobiles   YouM      YM-98    \n",
       "\n",
       "   Avg Price  Total Sales Value  Discount Rate (%)  Discount Amount  \\\n",
       "0      12100             181500          11.654820     21153.498820   \n",
       "1      10100             101000          11.560498     11676.102961   \n",
       "2      16100             112700           9.456886     10657.910157   \n",
       "3      20100             120600           6.935385      8364.074702   \n",
       "4       8100              24300          17.995663      4372.946230   \n",
       "\n",
       "   Net Sales Value  \n",
       "0    160346.501180  \n",
       "1     89323.897039  \n",
       "2    102042.089843  \n",
       "3    112235.925298  \n",
       "4     19927.053770  "
      ]
     },
     "execution_count": 115,
     "metadata": {},
     "output_type": "execute_result"
    }
   ],
   "source": [
    "df.head()"
   ]
  },
  {
   "cell_type": "code",
   "execution_count": 4,
   "id": "40586e69-8979-4616-8d1e-f17231de281a",
   "metadata": {},
   "outputs": [
    {
     "data": {
      "text/plain": [
       "Date                  object\n",
       "Day                   object\n",
       "SKU                   object\n",
       "City                  object\n",
       "Volume                 int64\n",
       "BU                    object\n",
       "Brand                 object\n",
       "Model                 object\n",
       "Avg Price              int64\n",
       "Total Sales Value      int64\n",
       "Discount Rate (%)    float64\n",
       "Discount Amount      float64\n",
       "Net Sales Value      float64\n",
       "dtype: object"
      ]
     },
     "execution_count": 4,
     "metadata": {},
     "output_type": "execute_result"
    }
   ],
   "source": [
    "df.dtypes"
   ]
  },
  {
   "cell_type": "code",
   "execution_count": 5,
   "id": "2cfc5664-855d-474b-8052-07305e6c3acc",
   "metadata": {},
   "outputs": [
    {
     "data": {
      "text/plain": [
       "Index(['Date', 'Day', 'SKU', 'City', 'Volume', 'BU', 'Brand', 'Model',\n",
       "       'Avg Price', 'Total Sales Value', 'Discount Rate (%)',\n",
       "       'Discount Amount', 'Net Sales Value'],\n",
       "      dtype='object')"
      ]
     },
     "execution_count": 5,
     "metadata": {},
     "output_type": "execute_result"
    }
   ],
   "source": [
    "df.columns"
   ]
  },
  {
   "cell_type": "markdown",
   "id": "d98599c1-563a-496a-815b-9501f603bc45",
   "metadata": {},
   "source": [
    "### Mean Of The Columns"
   ]
  },
  {
   "cell_type": "code",
   "execution_count": 6,
   "id": "e48e31e0-3b14-44aa-a536-134fe37106c2",
   "metadata": {},
   "outputs": [
    {
     "data": {
      "text/plain": [
       "5.066666666666666"
      ]
     },
     "execution_count": 6,
     "metadata": {},
     "output_type": "execute_result"
    }
   ],
   "source": [
    "df['Volume'].mean()"
   ]
  },
  {
   "cell_type": "code",
   "execution_count": 7,
   "id": "d194cc36-2263-47ab-bc41-55dbc8a8a609",
   "metadata": {},
   "outputs": [
    {
     "data": {
      "text/plain": [
       "10453.433333333332"
      ]
     },
     "execution_count": 7,
     "metadata": {},
     "output_type": "execute_result"
    }
   ],
   "source": [
    "df['Avg Price'].mean()"
   ]
  },
  {
   "cell_type": "code",
   "execution_count": 8,
   "id": "5e5590fa-5654-413d-9080-82fceac14f1b",
   "metadata": {},
   "outputs": [
    {
     "data": {
      "text/plain": [
       "33812.83555555555"
      ]
     },
     "execution_count": 8,
     "metadata": {},
     "output_type": "execute_result"
    }
   ],
   "source": [
    "df['Total Sales Value'].mean()"
   ]
  },
  {
   "cell_type": "code",
   "execution_count": 9,
   "id": "152a7906-ec32-42c3-80cb-2f36f5ee915d",
   "metadata": {},
   "outputs": [
    {
     "data": {
      "text/plain": [
       "15.155241895330914"
      ]
     },
     "execution_count": 9,
     "metadata": {},
     "output_type": "execute_result"
    }
   ],
   "source": [
    "df['Discount Rate (%)'].mean()"
   ]
  },
  {
   "cell_type": "code",
   "execution_count": 10,
   "id": "bb94295d-a301-4abd-8704-9184d22c689c",
   "metadata": {},
   "outputs": [
    {
     "data": {
      "text/plain": [
       "3346.499424342415"
      ]
     },
     "execution_count": 10,
     "metadata": {},
     "output_type": "execute_result"
    }
   ],
   "source": [
    "df['Discount Amount'].mean()"
   ]
  },
  {
   "cell_type": "code",
   "execution_count": 11,
   "id": "eb7e32ea-46d1-4be2-aaf5-074e6319f757",
   "metadata": {},
   "outputs": [
    {
     "data": {
      "text/plain": [
       "30466.336131270138"
      ]
     },
     "execution_count": 11,
     "metadata": {},
     "output_type": "execute_result"
    }
   ],
   "source": [
    "df['Net Sales Value'].mean()"
   ]
  },
  {
   "cell_type": "markdown",
   "id": "428fa486-957f-424f-9b88-5526e16a69cf",
   "metadata": {},
   "source": [
    "### Median Of the columns"
   ]
  },
  {
   "cell_type": "code",
   "execution_count": 12,
   "id": "00ac6b25-f87e-4153-8703-4c47629c80b7",
   "metadata": {},
   "outputs": [
    {
     "data": {
      "text/plain": [
       "4.0"
      ]
     },
     "execution_count": 12,
     "metadata": {},
     "output_type": "execute_result"
    }
   ],
   "source": [
    "df['Volume'].median()"
   ]
  },
  {
   "cell_type": "code",
   "execution_count": 13,
   "id": "16a5ffa7-8e3b-4d97-86dd-2b050ea7f0ce",
   "metadata": {},
   "outputs": [
    {
     "data": {
      "text/plain": [
       "1450.0"
      ]
     },
     "execution_count": 13,
     "metadata": {},
     "output_type": "execute_result"
    }
   ],
   "source": [
    "df['Avg Price'].median()"
   ]
  },
  {
   "cell_type": "code",
   "execution_count": 14,
   "id": "f7512000-217e-4338-ba8b-755c900f7a70",
   "metadata": {},
   "outputs": [
    {
     "data": {
      "text/plain": [
       "5700.0"
      ]
     },
     "execution_count": 14,
     "metadata": {},
     "output_type": "execute_result"
    }
   ],
   "source": [
    "df['Total Sales Value'].median()"
   ]
  },
  {
   "cell_type": "code",
   "execution_count": 15,
   "id": "604b36c0-c608-417d-b450-4fd311a098bf",
   "metadata": {},
   "outputs": [
    {
     "data": {
      "text/plain": [
       "16.57776564929597"
      ]
     },
     "execution_count": 15,
     "metadata": {},
     "output_type": "execute_result"
    }
   ],
   "source": [
    "df['Discount Rate (%)'].median()"
   ]
  },
  {
   "cell_type": "code",
   "execution_count": 16,
   "id": "ca6bc047-4046-4243-b23b-73b0bf91e359",
   "metadata": {},
   "outputs": [
    {
     "data": {
      "text/plain": [
       "988.9337332382784"
      ]
     },
     "execution_count": 16,
     "metadata": {},
     "output_type": "execute_result"
    }
   ],
   "source": [
    "df['Discount Amount'].median()"
   ]
  },
  {
   "cell_type": "code",
   "execution_count": 17,
   "id": "0da6c485-0793-4be2-ae47-6e0794a96966",
   "metadata": {},
   "outputs": [
    {
     "data": {
      "text/plain": [
       "4677.788059301853"
      ]
     },
     "execution_count": 17,
     "metadata": {},
     "output_type": "execute_result"
    }
   ],
   "source": [
    "df['Net Sales Value'].median()"
   ]
  },
  {
   "cell_type": "markdown",
   "id": "cbb45ba8-e2c8-47e4-9f48-5a7d86a6283c",
   "metadata": {},
   "source": [
    "### Mode of the columns"
   ]
  },
  {
   "cell_type": "code",
   "execution_count": 18,
   "id": "1f72cc29-f60b-4f16-9d2a-cf18880962f7",
   "metadata": {},
   "outputs": [
    {
     "data": {
      "text/plain": [
       "0    3\n",
       "Name: Volume, dtype: int64"
      ]
     },
     "execution_count": 18,
     "metadata": {},
     "output_type": "execute_result"
    }
   ],
   "source": [
    "df['Volume'].mode()"
   ]
  },
  {
   "cell_type": "code",
   "execution_count": 19,
   "id": "4106c670-23b1-4c65-b4f7-0ff8c064e909",
   "metadata": {},
   "outputs": [
    {
     "data": {
      "text/plain": [
       "0     400\n",
       "1     450\n",
       "2     500\n",
       "3    1300\n",
       "4    8100\n",
       "Name: Avg Price, dtype: int64"
      ]
     },
     "execution_count": 19,
     "metadata": {},
     "output_type": "execute_result"
    }
   ],
   "source": [
    "df['Avg Price'].mode()"
   ]
  },
  {
   "cell_type": "code",
   "execution_count": 20,
   "id": "ef7b7282-1c47-411f-95f0-33c2da3af33a",
   "metadata": {},
   "outputs": [
    {
     "data": {
      "text/plain": [
       "0    24300\n",
       "Name: Total Sales Value, dtype: int64"
      ]
     },
     "execution_count": 20,
     "metadata": {},
     "output_type": "execute_result"
    }
   ],
   "source": [
    "df['Total Sales Value'].mode()"
   ]
  },
  {
   "cell_type": "code",
   "execution_count": 21,
   "id": "81c9b501-e0bd-4efa-a8e9-6514ef6041e7",
   "metadata": {},
   "outputs": [
    {
     "data": {
      "text/plain": [
       "0       5.007822\n",
       "1       5.055218\n",
       "2       5.059801\n",
       "3       5.072124\n",
       "4       5.084108\n",
       "         ...    \n",
       "445    19.940610\n",
       "446    19.965340\n",
       "447    19.976879\n",
       "448    19.982257\n",
       "449    19.992407\n",
       "Name: Discount Rate (%), Length: 450, dtype: float64"
      ]
     },
     "execution_count": 21,
     "metadata": {},
     "output_type": "execute_result"
    }
   ],
   "source": [
    "df['Discount Rate (%)'].mode()"
   ]
  },
  {
   "cell_type": "code",
   "execution_count": 22,
   "id": "84d72575-c6a3-4c6e-ae40-48d802166acb",
   "metadata": {},
   "outputs": [
    {
     "data": {
      "text/plain": [
       "0         69.177942\n",
       "1         73.025199\n",
       "2         93.649161\n",
       "3         94.682735\n",
       "4        102.705757\n",
       "           ...     \n",
       "445    17900.983733\n",
       "446    21153.498820\n",
       "447    21496.675367\n",
       "448    25328.224204\n",
       "449    25738.022194\n",
       "Name: Discount Amount, Length: 450, dtype: float64"
      ]
     },
     "execution_count": 22,
     "metadata": {},
     "output_type": "execute_result"
    }
   ],
   "source": [
    "df['Discount Amount'].mode()"
   ]
  },
  {
   "cell_type": "code",
   "execution_count": 23,
   "id": "de515f14-afd3-42a2-8a63-de8e37e80800",
   "metadata": {},
   "outputs": [
    {
     "data": {
      "text/plain": [
       "0         326.974801\n",
       "1         330.822058\n",
       "2         466.350839\n",
       "3         485.317265\n",
       "4         496.607104\n",
       "           ...      \n",
       "445    162603.186379\n",
       "446    163915.971000\n",
       "447    163967.080070\n",
       "448    166263.161348\n",
       "449    179507.479049\n",
       "Name: Net Sales Value, Length: 450, dtype: float64"
      ]
     },
     "execution_count": 23,
     "metadata": {},
     "output_type": "execute_result"
    }
   ],
   "source": [
    "df['Net Sales Value'].mode()"
   ]
  },
  {
   "cell_type": "markdown",
   "id": "ccd388c8-c882-4533-a35a-b2c3a8d72961",
   "metadata": {},
   "source": [
    "## Data Visualization"
   ]
  },
  {
   "cell_type": "markdown",
   "id": "fe0c14bb-eb84-42c1-84b0-903a34bd4f24",
   "metadata": {},
   "source": [
    "#### ●\tObjective: To visualize the distribution and relationship of numerical and categorical variables in the dataset."
   ]
  },
  {
   "cell_type": "code",
   "execution_count": 24,
   "id": "f70e0ab9-f6b2-4cb9-aaec-c1420a0103d0",
   "metadata": {},
   "outputs": [
    {
     "data": {
      "text/plain": [
       "Date                  object\n",
       "Day                   object\n",
       "SKU                   object\n",
       "City                  object\n",
       "Volume                 int64\n",
       "BU                    object\n",
       "Brand                 object\n",
       "Model                 object\n",
       "Avg Price              int64\n",
       "Total Sales Value      int64\n",
       "Discount Rate (%)    float64\n",
       "Discount Amount      float64\n",
       "Net Sales Value      float64\n",
       "dtype: object"
      ]
     },
     "execution_count": 24,
     "metadata": {},
     "output_type": "execute_result"
    }
   ],
   "source": [
    "df.dtypes"
   ]
  },
  {
   "cell_type": "code",
   "execution_count": 25,
   "id": "d2da67c4-c625-48e6-a3ff-81d8ae9c7dbd",
   "metadata": {},
   "outputs": [],
   "source": [
    "import plotly.express as pe"
   ]
  },
  {
   "cell_type": "code",
   "execution_count": 26,
   "id": "be93e407-d5c4-4ef3-9594-97749023b215",
   "metadata": {},
   "outputs": [
    {
     "data": {
      "text/plain": [
       "<matplotlib.collections.PathCollection at 0x1ab9ef25350>"
      ]
     },
     "execution_count": 26,
     "metadata": {},
     "output_type": "execute_result"
    },
    {
     "data": {
      "image/png": "[encoded data removed]",
      "text/plain": [
       "<Figure size 640x480 with 1 Axes>"
      ]
     },
     "metadata": {},
     "output_type": "display_data"
    }
   ],
   "source": [
    "plt.scatter(df.Brand,df.Volume)"
   ]
  },
  {
   "cell_type": "markdown",
   "id": "e7352ef5-fe05-483d-8d5f-4e546a054e8c",
   "metadata": {},
   "source": [
    "### ●\tHistograms:\n",
    "####\tPlot histograms for each numerical column.\n",
    "####\tAnalyze the distribution (e.g., skewness, presence of outliers) and provide inferences.\n"
   ]
  },
  {
   "cell_type": "code",
   "execution_count": 27,
   "id": "f381dbbe-7abe-4f21-ab7b-a01452a9231c",
   "metadata": {},
   "outputs": [
    {
     "data": {
      "text/plain": [
       "Date                  object\n",
       "Day                   object\n",
       "SKU                   object\n",
       "City                  object\n",
       "Volume                 int64\n",
       "BU                    object\n",
       "Brand                 object\n",
       "Model                 object\n",
       "Avg Price              int64\n",
       "Total Sales Value      int64\n",
       "Discount Rate (%)    float64\n",
       "Discount Amount      float64\n",
       "Net Sales Value      float64\n",
       "dtype: object"
      ]
     },
     "execution_count": 27,
     "metadata": {},
     "output_type": "execute_result"
    }
   ],
   "source": [
    "df.dtypes"
   ]
  },
  {
   "cell_type": "code",
   "execution_count": 28,
   "id": "f933a79a-8f54-4612-b339-02cdbc7f6256",
   "metadata": {},
   "outputs": [
    {
     "data": {
      "text/plain": [
       "(array([213., 137.,  49.,  26.,  15.,   2.,   0.,   4.,   1.,   3.]),\n",
       " array([ 1.,  4.,  7., 10., 13., 16., 19., 22., 25., 28., 31.]),\n",
       " <BarContainer object of 10 artists>)"
      ]
     },
     "execution_count": 28,
     "metadata": {},
     "output_type": "execute_result"
    },
    {
     "data": {
      "image/png": "[encoded data removed]",
      "text/plain": [
       "<Figure size 640x480 with 1 Axes>"
      ]
     },
     "metadata": {},
     "output_type": "display_data"
    }
   ],
   "source": [
    "plt.hist(df.Volume,edgecolor='Red',facecolor='Yellow')\n",
    "           "
   ]
  },
  {
   "cell_type": "code",
   "execution_count": 29,
   "id": "addf6ef6-32e7-4aee-9198-adc44cde11b8",
   "metadata": {},
   "outputs": [
    {
     "data": {
      "text/plain": [
       "(array([300.,  60.,  15.,  15.,   0.,   0.,   0.,   0.,  30.,  30.]),\n",
       " array([  290.,  6271., 12252., 18233., 24214., 30195., 36176., 42157.,\n",
       "        48138., 54119., 60100.]),\n",
       " <BarContainer object of 10 artists>)"
      ]
     },
     "execution_count": 29,
     "metadata": {},
     "output_type": "execute_result"
    },
    {
     "data": {
      "image/png": "[encoded data removed]",
      "text/plain": [
       "<Figure size 640x480 with 1 Axes>"
      ]
     },
     "metadata": {},
     "output_type": "display_data"
    }
   ],
   "source": [
    "plt.hist(df['Avg Price'],edgecolor='Red',facecolor='Orange')"
   ]
  },
  {
   "cell_type": "code",
   "execution_count": 30,
   "id": "7897e4f6-b3e6-4166-9dd2-d780a79a5aa2",
   "metadata": {},
   "outputs": [
    {
     "data": {
      "text/plain": [
       "(array([305.,  24.,  15.,  18.,  12.,  27.,  15.,  15.,  11.,   8.]),\n",
       " array([   400.,  20000.,  39600.,  59200.,  78800.,  98400., 118000.,\n",
       "        137600., 157200., 176800., 196400.]),\n",
       " <BarContainer object of 10 artists>)"
      ]
     },
     "execution_count": 30,
     "metadata": {},
     "output_type": "execute_result"
    },
    {
     "data": {
      "image/png": "[encoded data removed]",
      "text/plain": [
       "<Figure size 640x480 with 1 Axes>"
      ]
     },
     "metadata": {},
     "output_type": "display_data"
    }
   ],
   "source": [
    "plt.hist(df['Total Sales Value'],edgecolor='Red',facecolor='Green')"
   ]
  },
  {
   "cell_type": "code",
   "execution_count": 31,
   "id": "ec1a3c30-26a5-4a50-afaf-d1f3a36fad9a",
   "metadata": {},
   "outputs": [
    {
     "data": {
      "text/plain": [
       "(array([ 27.,  24.,  29.,  14.,  14.,   6.,  38.,  96., 115.,  87.]),\n",
       " array([ 5.00782219,  6.50628067,  8.00473916,  9.50319765, 11.00165613,\n",
       "        12.50011462, 13.9985731 , 15.49703159, 16.99549007, 18.49394856,\n",
       "        19.99240704]),\n",
       " <BarContainer object of 10 artists>)"
      ]
     },
     "execution_count": 31,
     "metadata": {},
     "output_type": "execute_result"
    },
    {
     "data": {
      "image/png": "[encoded data removed]",
      "text/plain": [
       "<Figure size 640x480 with 1 Axes>"
      ]
     },
     "metadata": {},
     "output_type": "display_data"
    }
   ],
   "source": [
    "plt.hist(df['Discount Rate (%)'],edgecolor='Red',facecolor='Yellow')"
   ]
  },
  {
   "cell_type": "code",
   "execution_count": 32,
   "id": "912a9b7b-d6a6-4207-8407-a7a1e5199974",
   "metadata": {},
   "outputs": [
    {
     "data": {
      "text/plain": [
       "(array([299.,  37.,  42.,  29.,  22.,   8.,   9.,   0.,   2.,   2.]),\n",
       " array([   69.17794229,  2636.06236744,  5202.94679258,  7769.83121773,\n",
       "        10336.71564288, 12903.60006802, 15470.48449317, 18037.36891832,\n",
       "        20604.25334346, 23171.13776861, 25738.02219376]),\n",
       " <BarContainer object of 10 artists>)"
      ]
     },
     "execution_count": 32,
     "metadata": {},
     "output_type": "execute_result"
    },
    {
     "data": {
      "image/png": "[encoded data removed]",
      "text/plain": [
       "<Figure size 640x480 with 1 Axes>"
      ]
     },
     "metadata": {},
     "output_type": "display_data"
    }
   ],
   "source": [
    "plt.hist(df['Discount Amount'],edgecolor='Red',facecolor='Yellow')"
   ]
  },
  {
   "cell_type": "markdown",
   "id": "453d8afd-d1f2-4daf-b8fb-2f5044728297",
   "metadata": {},
   "source": [
    "### ●\tBoxplots:\n",
    "#### \tCreate boxplots for numerical variables to identify outliers and the interquartile range.\n",
    "#### \tDiscuss any findings, such as extreme values or unusual distributions.\n"
   ]
  },
  {
   "cell_type": "code",
   "execution_count": 33,
   "id": "64f3b013-78e4-4939-9815-e237f7ae4242",
   "metadata": {},
   "outputs": [
    {
     "data": {
      "text/plain": [
       "<Axes: xlabel='Volume'>"
      ]
     },
     "execution_count": 33,
     "metadata": {},
     "output_type": "execute_result"
    },
    {
     "data": {
      "image/png": "[encoded data removed]",
      "text/plain": [
       "<Figure size 1000x200 with 1 Axes>"
      ]
     },
     "metadata": {},
     "output_type": "display_data"
    }
   ],
   "source": [
    "plt.figure(figsize=(10,2))\n",
    "sns.boxplot(x='Volume',data=df)"
   ]
  },
  {
   "cell_type": "code",
   "execution_count": 34,
   "id": "f6100cfd-119c-4bb3-ab0d-ffb5bd2055d6",
   "metadata": {},
   "outputs": [
    {
     "data": {
      "text/html": [
       "<div>\n",
       "<style scoped>\n",
       "    .dataframe tbody tr th:only-of-type {\n",
       "        vertical-align: middle;\n",
       "    }\n",
       "\n",
       "    .dataframe tbody tr th {\n",
       "        vertical-align: top;\n",
       "    }\n",
       "\n",
       "    .dataframe thead th {\n",
       "        text-align: right;\n",
       "    }\n",
       "</style>\n",
       "<table border=\"1\" class=\"dataframe\">\n",
       "  <thead>\n",
       "    <tr style=\"text-align: right;\">\n",
       "      <th></th>\n",
       "      <th>Volume</th>\n",
       "      <th>Avg Price</th>\n",
       "      <th>Total Sales Value</th>\n",
       "      <th>Discount Rate (%)</th>\n",
       "      <th>Discount Amount</th>\n",
       "      <th>Net Sales Value</th>\n",
       "    </tr>\n",
       "  </thead>\n",
       "  <tbody>\n",
       "    <tr>\n",
       "      <th>count</th>\n",
       "      <td>450.000000</td>\n",
       "      <td>450.000000</td>\n",
       "      <td>450.000000</td>\n",
       "      <td>450.000000</td>\n",
       "      <td>450.000000</td>\n",
       "      <td>450.000000</td>\n",
       "    </tr>\n",
       "    <tr>\n",
       "      <th>mean</th>\n",
       "      <td>5.066667</td>\n",
       "      <td>10453.433333</td>\n",
       "      <td>33812.835556</td>\n",
       "      <td>15.155242</td>\n",
       "      <td>3346.499424</td>\n",
       "      <td>30466.336131</td>\n",
       "    </tr>\n",
       "    <tr>\n",
       "      <th>std</th>\n",
       "      <td>4.231602</td>\n",
       "      <td>18079.904840</td>\n",
       "      <td>50535.074173</td>\n",
       "      <td>4.220602</td>\n",
       "      <td>4509.902963</td>\n",
       "      <td>46358.656624</td>\n",
       "    </tr>\n",
       "    <tr>\n",
       "      <th>min</th>\n",
       "      <td>1.000000</td>\n",
       "      <td>290.000000</td>\n",
       "      <td>400.000000</td>\n",
       "      <td>5.007822</td>\n",
       "      <td>69.177942</td>\n",
       "      <td>326.974801</td>\n",
       "    </tr>\n",
       "    <tr>\n",
       "      <th>25%</th>\n",
       "      <td>3.000000</td>\n",
       "      <td>465.000000</td>\n",
       "      <td>2700.000000</td>\n",
       "      <td>13.965063</td>\n",
       "      <td>460.459304</td>\n",
       "      <td>2202.208645</td>\n",
       "    </tr>\n",
       "    <tr>\n",
       "      <th>50%</th>\n",
       "      <td>4.000000</td>\n",
       "      <td>1450.000000</td>\n",
       "      <td>5700.000000</td>\n",
       "      <td>16.577766</td>\n",
       "      <td>988.933733</td>\n",
       "      <td>4677.788059</td>\n",
       "    </tr>\n",
       "    <tr>\n",
       "      <th>75%</th>\n",
       "      <td>6.000000</td>\n",
       "      <td>10100.000000</td>\n",
       "      <td>53200.000000</td>\n",
       "      <td>18.114718</td>\n",
       "      <td>5316.495427</td>\n",
       "      <td>47847.912852</td>\n",
       "    </tr>\n",
       "    <tr>\n",
       "      <th>max</th>\n",
       "      <td>31.000000</td>\n",
       "      <td>60100.000000</td>\n",
       "      <td>196400.000000</td>\n",
       "      <td>19.992407</td>\n",
       "      <td>25738.022194</td>\n",
       "      <td>179507.479049</td>\n",
       "    </tr>\n",
       "  </tbody>\n",
       "</table>\n",
       "</div>"
      ],
      "text/plain": [
       "           Volume     Avg Price  Total Sales Value  Discount Rate (%)  \\\n",
       "count  450.000000    450.000000         450.000000         450.000000   \n",
       "mean     5.066667  10453.433333       33812.835556          15.155242   \n",
       "std      4.231602  18079.904840       50535.074173           4.220602   \n",
       "min      1.000000    290.000000         400.000000           5.007822   \n",
       "25%      3.000000    465.000000        2700.000000          13.965063   \n",
       "50%      4.000000   1450.000000        5700.000000          16.577766   \n",
       "75%      6.000000  10100.000000       53200.000000          18.114718   \n",
       "max     31.000000  60100.000000      196400.000000          19.992407   \n",
       "\n",
       "       Discount Amount  Net Sales Value  \n",
       "count       450.000000       450.000000  \n",
       "mean       3346.499424     30466.336131  \n",
       "std        4509.902963     46358.656624  \n",
       "min          69.177942       326.974801  \n",
       "25%         460.459304      2202.208645  \n",
       "50%         988.933733      4677.788059  \n",
       "75%        5316.495427     47847.912852  \n",
       "max       25738.022194    179507.479049  "
      ]
     },
     "execution_count": 34,
     "metadata": {},
     "output_type": "execute_result"
    }
   ],
   "source": [
    "df.describe()"
   ]
  },
  {
   "cell_type": "code",
   "execution_count": 35,
   "id": "549ba7a9-6250-4364-95e3-e38426a6e6f8",
   "metadata": {},
   "outputs": [
    {
     "data": {
      "text/plain": [
       "3.0"
      ]
     },
     "execution_count": 35,
     "metadata": {},
     "output_type": "execute_result"
    }
   ],
   "source": [
    "df['Volume'].quantile(0.25)"
   ]
  },
  {
   "cell_type": "code",
   "execution_count": 36,
   "id": "c274de7b-5924-432d-a977-efe75b7910e3",
   "metadata": {},
   "outputs": [
    {
     "data": {
      "text/plain": [
       "6.0"
      ]
     },
     "execution_count": 36,
     "metadata": {},
     "output_type": "execute_result"
    }
   ],
   "source": [
    "df['Volume'].quantile(0.75)"
   ]
  },
  {
   "cell_type": "code",
   "execution_count": 37,
   "id": "b477a150-ead7-46a9-80b9-eee5d5fe8251",
   "metadata": {},
   "outputs": [
    {
     "data": {
      "text/plain": [
       "31"
      ]
     },
     "execution_count": 37,
     "metadata": {},
     "output_type": "execute_result"
    }
   ],
   "source": [
    "df.Volume.max() # Upper extreme Value is =31(outlier)"
   ]
  },
  {
   "cell_type": "code",
   "execution_count": 38,
   "id": "741eec5b-872f-4538-996a-95eb9c75ed30",
   "metadata": {},
   "outputs": [
    {
     "data": {
      "text/plain": [
       "3.0"
      ]
     },
     "execution_count": 38,
     "metadata": {},
     "output_type": "execute_result"
    }
   ],
   "source": [
    "IQR=(df['Volume'].quantile(0.75)-df['Volume'].quantile(0.25))\n",
    "IQR"
   ]
  },
  {
   "cell_type": "code",
   "execution_count": 39,
   "id": "f3c184bc-6672-493f-baef-fc587c150284",
   "metadata": {},
   "outputs": [],
   "source": [
    "def outlier_detection(data,colname):\n",
    "    q1 = data[colname].quantile(0.25)\n",
    "    q3 = data[colname].quantile(0.75)\n",
    "    iqr = q3-q1\n",
    "\n",
    "    upper_extreme =q3 + (1.5*iqr)\n",
    "    lower_extreme =q1 - (1.5*iqr)\n",
    "\n",
    "    return(lower_extreme,upper_extreme,q1,q3)\n"
   ]
  },
  {
   "cell_type": "code",
   "execution_count": 40,
   "id": "023fb74a-6702-48a8-b8eb-d10ec1b89f6e",
   "metadata": {},
   "outputs": [
    {
     "data": {
      "text/plain": [
       "(-1.5, 10.5, 3.0, 6.0)"
      ]
     },
     "execution_count": 40,
     "metadata": {},
     "output_type": "execute_result"
    }
   ],
   "source": [
    "outlier_detection(df,'Volume')"
   ]
  },
  {
   "cell_type": "code",
   "execution_count": 41,
   "id": "3c1a02ee-e970-41b5-8146-d4521f29c36f",
   "metadata": {},
   "outputs": [
    {
     "data": {
      "text/plain": [
       "<Axes: >"
      ]
     },
     "execution_count": 41,
     "metadata": {},
     "output_type": "execute_result"
    },
    {
     "data": {
      "image/png": "[encoded data removed]",
      "text/plain": [
       "<Figure size 1200x1000 with 1 Axes>"
      ]
     },
     "metadata": {},
     "output_type": "display_data"
    }
   ],
   "source": [
    "plt.figure(figsize=(12,10))\n",
    "df.boxplot()"
   ]
  },
  {
   "cell_type": "code",
   "execution_count": 42,
   "id": "0a1a4665-16dd-48b2-bec0-3fba3a69fd77",
   "metadata": {},
   "outputs": [
    {
     "data": {
      "text/plain": [
       "(-13987.5, 24552.5, 465.0, 10100.0)"
      ]
     },
     "execution_count": 42,
     "metadata": {},
     "output_type": "execute_result"
    }
   ],
   "source": [
    "outlier_detection(df,'Avg Price')"
   ]
  },
  {
   "cell_type": "code",
   "execution_count": 43,
   "id": "5ae30a76-1bb0-48ac-a4c1-4ec7ba8f77a9",
   "metadata": {},
   "outputs": [
    {
     "data": {
      "text/plain": [
       "<Axes: xlabel='Avg Price'>"
      ]
     },
     "execution_count": 43,
     "metadata": {},
     "output_type": "execute_result"
    },
    {
     "data": {
      "image/png": "[encoded data removed]",
      "text/plain": [
       "<Figure size 1000x200 with 1 Axes>"
      ]
     },
     "metadata": {},
     "output_type": "display_data"
    }
   ],
   "source": [
    "plt.figure(figsize=(10,2))\n",
    "sns.boxplot(x='Avg Price',data=df)"
   ]
  },
  {
   "cell_type": "code",
   "execution_count": 44,
   "id": "79b5b16a-ee52-4b79-8f82-70c2496c5c4f",
   "metadata": {},
   "outputs": [
    {
     "data": {
      "text/plain": [
       "60100"
      ]
     },
     "execution_count": 44,
     "metadata": {},
     "output_type": "execute_result"
    }
   ],
   "source": [
    "df['Avg Price'].max()"
   ]
  },
  {
   "cell_type": "code",
   "execution_count": 45,
   "id": "eb67db03-7860-436d-9478-5ba200f3a1a9",
   "metadata": {},
   "outputs": [
    {
     "data": {
      "text/plain": [
       "290"
      ]
     },
     "execution_count": 45,
     "metadata": {},
     "output_type": "execute_result"
    }
   ],
   "source": [
    "df['Avg Price'].min()"
   ]
  },
  {
   "cell_type": "code",
   "execution_count": 46,
   "id": "0c33a18e-3c1a-48b3-a6de-2eac712409a8",
   "metadata": {},
   "outputs": [
    {
     "data": {
      "text/plain": [
       "<Axes: xlabel='Total Sales Value'>"
      ]
     },
     "execution_count": 46,
     "metadata": {},
     "output_type": "execute_result"
    },
    {
     "data": {
      "image/png": "[encoded data removed]",
      "text/plain": [
       "<Figure size 1200x200 with 1 Axes>"
      ]
     },
     "metadata": {},
     "output_type": "display_data"
    }
   ],
   "source": [
    "plt.figure(figsize=(12,2))\n",
    "sns.boxplot(x='Total Sales Value',data=df)"
   ]
  },
  {
   "cell_type": "code",
   "execution_count": 47,
   "id": "abad76dc-7de9-4229-aa85-397b81c540d7",
   "metadata": {},
   "outputs": [
    {
     "data": {
      "text/plain": [
       "(-73050.0, 128950.0, 2700.0, 53200.0)"
      ]
     },
     "execution_count": 47,
     "metadata": {},
     "output_type": "execute_result"
    }
   ],
   "source": [
    "outlier_detection(df,'Total Sales Value')"
   ]
  },
  {
   "cell_type": "code",
   "execution_count": 48,
   "id": "7e5f1321-5127-46b8-a001-73030ef9d692",
   "metadata": {},
   "outputs": [
    {
     "data": {
      "text/plain": [
       "196400"
      ]
     },
     "execution_count": 48,
     "metadata": {},
     "output_type": "execute_result"
    }
   ],
   "source": [
    "df['Total Sales Value'].max()"
   ]
  },
  {
   "cell_type": "code",
   "execution_count": 49,
   "id": "fe482372-8965-4a42-8968-3ee8beba56eb",
   "metadata": {},
   "outputs": [
    {
     "data": {
      "text/plain": [
       "400"
      ]
     },
     "execution_count": 49,
     "metadata": {},
     "output_type": "execute_result"
    }
   ],
   "source": [
    "df['Total Sales Value'].min()"
   ]
  },
  {
   "cell_type": "code",
   "execution_count": 50,
   "id": "b6add3dc-3008-43c6-9d3d-473cb66d069f",
   "metadata": {},
   "outputs": [
    {
     "data": {
      "text/plain": [
       "<Axes: xlabel='Discount Rate (%)'>"
      ]
     },
     "execution_count": 50,
     "metadata": {},
     "output_type": "execute_result"
    },
    {
     "data": {
      "image/png": "[encoded data removed]",
      "text/plain": [
       "<Figure size 1200x200 with 1 Axes>"
      ]
     },
     "metadata": {},
     "output_type": "display_data"
    }
   ],
   "source": [
    "plt.figure(figsize=(12,2))\n",
    "sns.boxplot(x='Discount Rate (%)',data=df)"
   ]
  },
  {
   "cell_type": "code",
   "execution_count": 51,
   "id": "21b59595-325e-4ee0-abd7-74e74f27f2f0",
   "metadata": {},
   "outputs": [
    {
     "data": {
      "text/plain": [
       "19.99240704193018"
      ]
     },
     "execution_count": 51,
     "metadata": {},
     "output_type": "execute_result"
    }
   ],
   "source": [
    "df['Discount Rate (%)'].max()"
   ]
  },
  {
   "cell_type": "code",
   "execution_count": 52,
   "id": "eebf486e-9851-4b61-b79c-ef6cb78232fb",
   "metadata": {},
   "outputs": [
    {
     "data": {
      "text/plain": [
       "5.007822189204133"
      ]
     },
     "execution_count": 52,
     "metadata": {},
     "output_type": "execute_result"
    }
   ],
   "source": [
    "df['Discount Rate (%)'].min()"
   ]
  },
  {
   "cell_type": "code",
   "execution_count": 53,
   "id": "18a3a973-73a9-4c27-a7dc-c8f0cea0fbeb",
   "metadata": {},
   "outputs": [
    {
     "data": {
      "text/plain": [
       "(7.740578642625298, 24.339202378829146, 13.965062543701741, 18.114718477752703)"
      ]
     },
     "execution_count": 53,
     "metadata": {},
     "output_type": "execute_result"
    }
   ],
   "source": [
    "outlier_detection(df,'Discount Rate (%)')"
   ]
  },
  {
   "cell_type": "code",
   "execution_count": 54,
   "id": "9c35928a-b7ba-4097-9b1d-eb18737b5a81",
   "metadata": {},
   "outputs": [
    {
     "data": {
      "text/plain": [
       "<Axes: xlabel='Discount Amount'>"
      ]
     },
     "execution_count": 54,
     "metadata": {},
     "output_type": "execute_result"
    },
    {
     "data": {
      "image/png": "[encoded data removed]",
      "text/plain": [
       "<Figure size 1200x200 with 1 Axes>"
      ]
     },
     "metadata": {},
     "output_type": "display_data"
    }
   ],
   "source": [
    "plt.figure(figsize=(12,2))\n",
    "sns.boxplot(x='Discount Amount',data=df)"
   ]
  },
  {
   "cell_type": "code",
   "execution_count": 55,
   "id": "4737adc6-5722-4b38-8c33-844ee7594209",
   "metadata": {},
   "outputs": [
    {
     "data": {
      "text/plain": [
       "(-6823.594880316146, 12600.54961088833, 460.4593038855329, 5316.4954266866525)"
      ]
     },
     "execution_count": 55,
     "metadata": {},
     "output_type": "execute_result"
    }
   ],
   "source": [
    "outlier_detection(df,'Discount Amount')"
   ]
  },
  {
   "cell_type": "code",
   "execution_count": 56,
   "id": "15892637-136f-46d7-a533-974b1d0c135f",
   "metadata": {},
   "outputs": [
    {
     "data": {
      "text/plain": [
       "25738.02219375868"
      ]
     },
     "execution_count": 56,
     "metadata": {},
     "output_type": "execute_result"
    }
   ],
   "source": [
    "df['Discount Amount'].max()"
   ]
  },
  {
   "cell_type": "code",
   "execution_count": 57,
   "id": "13392426-2f58-4027-805a-af0a23a63008",
   "metadata": {},
   "outputs": [
    {
     "data": {
      "text/plain": [
       "69.17794228822787"
      ]
     },
     "execution_count": 57,
     "metadata": {},
     "output_type": "execute_result"
    }
   ],
   "source": [
    "df['Discount Amount'].min()"
   ]
  },
  {
   "cell_type": "code",
   "execution_count": 58,
   "id": "5f411371-0279-4fad-a304-f0e34addcc5d",
   "metadata": {},
   "outputs": [
    {
     "data": {
      "text/plain": [
       "<Axes: xlabel='Net Sales Value'>"
      ]
     },
     "execution_count": 58,
     "metadata": {},
     "output_type": "execute_result"
    },
    {
     "data": {
      "image/png": "[encoded data removed]",
      "text/plain": [
       "<Figure size 1200x200 with 1 Axes>"
      ]
     },
     "metadata": {},
     "output_type": "display_data"
    }
   ],
   "source": [
    "plt.figure(figsize=(12,2))\n",
    "sns.boxplot(x='Net Sales Value',data=df)"
   ]
  },
  {
   "cell_type": "code",
   "execution_count": 59,
   "id": "2b06c245-37a3-4f87-bf8f-8cfeafe5b6aa",
   "metadata": {},
   "outputs": [
    {
     "data": {
      "text/plain": [
       "(-66266.347664084, 116316.46916099661, 2202.2086453212287, 47847.91285159138)"
      ]
     },
     "execution_count": 59,
     "metadata": {},
     "output_type": "execute_result"
    }
   ],
   "source": [
    "outlier_detection(df,'Net Sales Value')"
   ]
  },
  {
   "cell_type": "code",
   "execution_count": 60,
   "id": "15885adf-b116-4faa-a37d-3acc5cad07d7",
   "metadata": {},
   "outputs": [
    {
     "data": {
      "text/plain": [
       "179507.47904902254"
      ]
     },
     "execution_count": 60,
     "metadata": {},
     "output_type": "execute_result"
    }
   ],
   "source": [
    "df['Net Sales Value'].max()"
   ]
  },
  {
   "cell_type": "code",
   "execution_count": 61,
   "id": "78f8f459-57a1-4a46-ab4f-279823d17abc",
   "metadata": {},
   "outputs": [
    {
     "data": {
      "text/plain": [
       "326.97480055470817"
      ]
     },
     "execution_count": 61,
     "metadata": {},
     "output_type": "execute_result"
    }
   ],
   "source": [
    "df['Net Sales Value'].min()"
   ]
  },
  {
   "cell_type": "markdown",
   "id": "a84feb65-9d6d-4114-bd9d-d54ad51ba464",
   "metadata": {},
   "source": [
    "## ●\tBar Chart Analysis for Categorical Column:\n",
    "### \tIdentify categorical columns in the dataset.\n",
    "### \tCreate bar charts to visualize the frequency or count of each category.\n",
    "### \tAnalyze the distribution of categories and provide insights.\n"
   ]
  },
  {
   "cell_type": "code",
   "execution_count": 62,
   "id": "cb544085-0757-4ab2-aba1-bbb9fc845ac1",
   "metadata": {},
   "outputs": [
    {
     "data": {
      "text/plain": [
       "Date                  object\n",
       "Day                   object\n",
       "SKU                   object\n",
       "City                  object\n",
       "Volume                 int64\n",
       "BU                    object\n",
       "Brand                 object\n",
       "Model                 object\n",
       "Avg Price              int64\n",
       "Total Sales Value      int64\n",
       "Discount Rate (%)    float64\n",
       "Discount Amount      float64\n",
       "Net Sales Value      float64\n",
       "dtype: object"
      ]
     },
     "execution_count": 62,
     "metadata": {},
     "output_type": "execute_result"
    }
   ],
   "source": [
    "df.dtypes"
   ]
  },
  {
   "cell_type": "code",
   "execution_count": 63,
   "id": "662fafc0-d19e-47f2-b23e-dc7c0bbb5823",
   "metadata": {},
   "outputs": [
    {
     "data": {
      "text/plain": [
       "Day\n",
       "Thursday     90\n",
       "Friday       60\n",
       "Saturday     60\n",
       "Sunday       60\n",
       "Monday       60\n",
       "Tuesday      60\n",
       "Wednesday    60\n",
       "Name: count, dtype: int64"
      ]
     },
     "execution_count": 63,
     "metadata": {},
     "output_type": "execute_result"
    }
   ],
   "source": [
    "df['Day'].value_counts()"
   ]
  },
  {
   "cell_type": "code",
   "execution_count": 64,
   "id": "d62a19fc-c35d-48bd-8ec3-6e6fa3a0d62d",
   "metadata": {},
   "outputs": [
    {
     "data": {
      "text/plain": [
       "<Axes: xlabel='Day'>"
      ]
     },
     "execution_count": 64,
     "metadata": {},
     "output_type": "execute_result"
    },
    {
     "data": {
      "image/png": "[encoded data removed]",
      "text/plain": [
       "<Figure size 640x480 with 1 Axes>"
      ]
     },
     "metadata": {},
     "output_type": "display_data"
    }
   ],
   "source": [
    "df['Day'].value_counts().plot.bar()"
   ]
  },
  {
   "cell_type": "code",
   "execution_count": 65,
   "id": "0673ed37-976a-4324-809c-bdd1f74ab683",
   "metadata": {},
   "outputs": [
    {
     "data": {
      "text/plain": [
       "SKU\n",
       "M01    15\n",
       "M02    15\n",
       "L09    15\n",
       "L08    15\n",
       "L07    15\n",
       "L06    15\n",
       "L05    15\n",
       "L04    15\n",
       "L03    15\n",
       "L02    15\n",
       "L01    15\n",
       "F10    15\n",
       "F09    15\n",
       "F08    15\n",
       "F07    15\n",
       "F06    15\n",
       "F05    15\n",
       "F04    15\n",
       "F03    15\n",
       "F02    15\n",
       "F01    15\n",
       "M10    15\n",
       "M09    15\n",
       "M08    15\n",
       "M07    15\n",
       "M06    15\n",
       "M05    15\n",
       "M04    15\n",
       "M03    15\n",
       "L10    15\n",
       "Name: count, dtype: int64"
      ]
     },
     "execution_count": 65,
     "metadata": {},
     "output_type": "execute_result"
    }
   ],
   "source": [
    "df['SKU'].value_counts()"
   ]
  },
  {
   "cell_type": "code",
   "execution_count": 66,
   "id": "9cdfc951-c389-4284-bfcd-de29fb187a07",
   "metadata": {},
   "outputs": [
    {
     "data": {
      "text/plain": [
       "<Axes: xlabel='SKU'>"
      ]
     },
     "execution_count": 66,
     "metadata": {},
     "output_type": "execute_result"
    },
    {
     "data": {
      "image/png": "[encoded data removed]",
      "text/plain": [
       "<Figure size 1200x400 with 1 Axes>"
      ]
     },
     "metadata": {},
     "output_type": "display_data"
    }
   ],
   "source": [
    "plt.figure(figsize=(12,4))\n",
    "df['SKU'].value_counts().plot.bar()"
   ]
  },
  {
   "cell_type": "code",
   "execution_count": 67,
   "id": "67d77b31-1e16-4e1e-b808-18d6651eb819",
   "metadata": {},
   "outputs": [
    {
     "data": {
      "text/plain": [
       "City\n",
       "C    450\n",
       "Name: count, dtype: int64"
      ]
     },
     "execution_count": 67,
     "metadata": {},
     "output_type": "execute_result"
    }
   ],
   "source": [
    "df['City'].value_counts()"
   ]
  },
  {
   "cell_type": "code",
   "execution_count": 68,
   "id": "876e856d-f2f3-4a3e-b37d-36478be6052e",
   "metadata": {},
   "outputs": [
    {
     "data": {
      "text/plain": [
       "<Axes: xlabel='City'>"
      ]
     },
     "execution_count": 68,
     "metadata": {},
     "output_type": "execute_result"
    },
    {
     "data": {
      "image/png": "[encoded data removed]",
      "text/plain": [
       "<Figure size 400x400 with 1 Axes>"
      ]
     },
     "metadata": {},
     "output_type": "display_data"
    }
   ],
   "source": [
    "plt.figure(figsize=(4,4))\n",
    "df['City'].value_counts().plot.bar()"
   ]
  },
  {
   "cell_type": "code",
   "execution_count": 69,
   "id": "27a3ac36-291e-4e27-acb3-44bb0f0a4152",
   "metadata": {},
   "outputs": [
    {
     "data": {
      "text/plain": [
       "BU\n",
       "Mobiles      150\n",
       "FMCG         150\n",
       "Lifestyle    150\n",
       "Name: count, dtype: int64"
      ]
     },
     "execution_count": 69,
     "metadata": {},
     "output_type": "execute_result"
    }
   ],
   "source": [
    "df['BU'].value_counts()"
   ]
  },
  {
   "cell_type": "code",
   "execution_count": 70,
   "id": "92f75a2f-6a33-4938-a7ac-0872e0080a63",
   "metadata": {},
   "outputs": [
    {
     "data": {
      "text/plain": [
       "<Axes: xlabel='BU'>"
      ]
     },
     "execution_count": 70,
     "metadata": {},
     "output_type": "execute_result"
    },
    {
     "data": {
      "image/png": "[encoded data removed]",
      "text/plain": [
       "<Figure size 600x400 with 1 Axes>"
      ]
     },
     "metadata": {},
     "output_type": "display_data"
    }
   ],
   "source": [
    "plt.figure(figsize=(6,4))\n",
    "df['BU'].value_counts().plot.bar()"
   ]
  },
  {
   "cell_type": "code",
   "execution_count": 71,
   "id": "de6815a0-11c6-46f5-9df8-85c0e059d9cc",
   "metadata": {},
   "outputs": [
    {
     "data": {
      "text/plain": [
       "Brand\n",
       "Jeera      90\n",
       "Gear       60\n",
       "Viva       60\n",
       "RealU      45\n",
       "YouM       45\n",
       "Babaji     45\n",
       "Vedic      45\n",
       "Sumsang    30\n",
       "Orange     30\n",
       "Name: count, dtype: int64"
      ]
     },
     "execution_count": 71,
     "metadata": {},
     "output_type": "execute_result"
    }
   ],
   "source": [
    "df['Brand'].value_counts()"
   ]
  },
  {
   "cell_type": "code",
   "execution_count": 72,
   "id": "3ca6017c-3cfc-48b4-b158-77a954ff04d7",
   "metadata": {},
   "outputs": [
    {
     "data": {
      "text/plain": [
       "<Axes: xlabel='Brand'>"
      ]
     },
     "execution_count": 72,
     "metadata": {},
     "output_type": "execute_result"
    },
    {
     "data": {
      "image/png": "[encoded data removed]",
      "text/plain": [
       "<Figure size 1000x400 with 1 Axes>"
      ]
     },
     "metadata": {},
     "output_type": "display_data"
    }
   ],
   "source": [
    "plt.figure(figsize=(10,4))\n",
    "df['Brand'].value_counts().plot.bar()"
   ]
  },
  {
   "cell_type": "code",
   "execution_count": 73,
   "id": "168b2959-c6a3-43ac-a64e-509d8cbd3b69",
   "metadata": {},
   "outputs": [
    {
     "data": {
      "text/plain": [
       "Model\n",
       "RU-10             15\n",
       "RU-9 Plus         15\n",
       "M-Formals         15\n",
       "W-Lounge          15\n",
       "W-Western         15\n",
       "M-Casuals         15\n",
       "M-Jeans           15\n",
       "W-Inners          15\n",
       "W-Casuals         15\n",
       "M- Inners         15\n",
       "M- T Shirts       15\n",
       "Gear BB Cream     15\n",
       "Gear Shampoo      15\n",
       "Gear Cream        15\n",
       "Gear Oil          15\n",
       "Vedic Oil         15\n",
       "Babaji Cream      15\n",
       "Babaji Shampoo    15\n",
       "Vedic Shampoo     15\n",
       "Vedic Cream       15\n",
       "Babaji Oil        15\n",
       "O-11              15\n",
       "O-10              15\n",
       "S-21              15\n",
       "S-20              15\n",
       "RU-9              15\n",
       "YM-98             15\n",
       "YM-99 Plus        15\n",
       "YM-99             15\n",
       "M-Shoes           15\n",
       "Name: count, dtype: int64"
      ]
     },
     "execution_count": 73,
     "metadata": {},
     "output_type": "execute_result"
    }
   ],
   "source": [
    "df['Model'].value_counts()"
   ]
  },
  {
   "cell_type": "code",
   "execution_count": 74,
   "id": "2981a098-7cb0-406d-b00b-cebd87d8c01a",
   "metadata": {},
   "outputs": [
    {
     "data": {
      "text/plain": [
       "<Axes: xlabel='Model'>"
      ]
     },
     "execution_count": 74,
     "metadata": {},
     "output_type": "execute_result"
    },
    {
     "data": {
      "image/png": "[encoded data removed]",
      "text/plain": [
       "<Figure size 1200x400 with 1 Axes>"
      ]
     },
     "metadata": {},
     "output_type": "display_data"
    }
   ],
   "source": [
    "plt.figure(figsize=(12,4))\n",
    "df['Model'].value_counts().plot.bar()"
   ]
  },
  {
   "cell_type": "markdown",
   "id": "2c93af95-4759-4047-a1a7-da84be2d3236",
   "metadata": {},
   "source": [
    "###### Standardization of Numerical Variables\n",
    "### ●\tObjective: To scale numerical variables for uniformity, improving the dataset’s suitability for analytical models.\n",
    "#### ●\tSteps:\n",
    "#### \tExplain the concept of standardization (z-score normalization).\n",
    "#### \tStandardize the numerical columns using the formula: z=x-mu/sigma\n",
    "\t\n",
    "#### \tShow before and after comparisons of the data distributions.\n"
   ]
  },
  {
   "cell_type": "code",
   "execution_count": 75,
   "id": "44c90e05-4fe5-44e7-8318-77a556423c57",
   "metadata": {},
   "outputs": [],
   "source": [
    "from scipy import stats\n",
    "import warnings\n",
    "warnings.filterwarnings('ignore')"
   ]
  },
  {
   "cell_type": "markdown",
   "id": "eb4becd2-37d9-4289-be5b-ccc24f5dc9e2",
   "metadata": {},
   "source": [
    "Normalization, also known as Z-score normalization,\n",
    "is a technique used to rescale numeric data to have a mean of 0 and a standard deviation of 1. \n",
    "This process helps to:\n",
    "\n",
    "1. Reduce the impact of dominant features: When features have different scales,\n",
    "some may dominate others during modeling. Normalization helps to prevent this.\n",
    "2. Improve model interpretability: By having all features on the same scale,\n",
    "it's easier to compare and understand the relationships between them.\n",
    "3. Enhance model performance: Some machine learning algorithms,\n",
    "like neural networks and support vector machines, perform better with normalized data.\n",
    "Z-score normalization formula:\n",
    "\n",
    "The Z-score normalization formula is:\n",
    "\n",
    "Z = (X - μ) / σ\n",
    "\n",
    "Where:\n",
    "\n",
    "- Z: normalized value\n",
    "- X: original value\n",
    "- μ: mean of the dataset\n",
    "- σ: standard deviation of the dataset\n",
    "How Z-score normalization works:\n",
    "1. Calculate the mean (μ) of the dataset.\n",
    "2. Calculate the standard deviation (σ) of the dataset.\n",
    "3. For each data point (X), subtract the mean (μ) and divide by the standard deviation (σ).\n",
    "4. The resulting value (Z) is the normalized value.\n",
    "\n",
    "Advantages and applications:\n",
    "\n",
    "Z-score normalization is widely used in:\n",
    "\n",
    "1. Machine learning: for feature scaling and improving model performance.\n",
    "2. Data analysis: for comparing and visualizing datasets with different scales.\n",
    "3. Statistical analysis: for hypothesis testing and confidence intervals.\n",
    "\n",
    "However, Z-score normalization can be sensitive to outliers\n",
    "    and may not be suitable for datasets with a large number of missing values."
   ]
  },
  {
   "cell_type": "code",
   "execution_count": 76,
   "id": "2c625c31-2d84-494d-a2f5-5ccecb2678a9",
   "metadata": {},
   "outputs": [
    {
     "data": {
      "text/plain": [
       "Date                  object\n",
       "Day                   object\n",
       "SKU                   object\n",
       "City                  object\n",
       "Volume                 int64\n",
       "BU                    object\n",
       "Brand                 object\n",
       "Model                 object\n",
       "Avg Price              int64\n",
       "Total Sales Value      int64\n",
       "Discount Rate (%)    float64\n",
       "Discount Amount      float64\n",
       "Net Sales Value      float64\n",
       "dtype: object"
      ]
     },
     "execution_count": 76,
     "metadata": {},
     "output_type": "execute_result"
    }
   ],
   "source": [
    "df.dtypes"
   ]
  },
  {
   "cell_type": "code",
   "execution_count": 77,
   "id": "770727cb-14dd-4c54-a850-1d4379c40f23",
   "metadata": {},
   "outputs": [
    {
     "data": {
      "text/plain": [
       "Date                  object\n",
       "Day                   object\n",
       "SKU                   object\n",
       "City                  object\n",
       "Volume                 int64\n",
       "BU                    object\n",
       "Brand                 object\n",
       "Model                 object\n",
       "Avg Price              int64\n",
       "Total Sales Value      int64\n",
       "Discount Rate (%)    float64\n",
       "Discount Amount      float64\n",
       "Net Sales Value      float64\n",
       "dtype: object"
      ]
     },
     "execution_count": 77,
     "metadata": {},
     "output_type": "execute_result"
    }
   ],
   "source": [
    "df.dtypes"
   ]
  },
  {
   "cell_type": "code",
   "execution_count": 78,
   "id": "b3fbc9c3-6e12-414d-ae9c-c48bfdd4ceb1",
   "metadata": {},
   "outputs": [],
   "source": [
    "#col = df['Volume']\n",
    "def standardized_cols(col):\n",
    "    mu = col.mean()\n",
    "    sigma = col.std()\n",
    "    standardized_cols = (col - mu) / sigma\n",
    "\n",
    "    return (standardized_cols)"
   ]
  },
  {
   "cell_type": "markdown",
   "id": "f0fd5f04-5e68-4b70-9557-1ff20bf6eed8",
   "metadata": {},
   "source": [
    "#### Distribution for the Volume column"
   ]
  },
  {
   "cell_type": "code",
   "execution_count": 79,
   "id": "ea30bdc7-4522-48d2-a272-8f910908887c",
   "metadata": {},
   "outputs": [
    {
     "data": {
      "text/plain": [
       "0      15\n",
       "1      10\n",
       "2       7\n",
       "3       6\n",
       "4       3\n",
       "       ..\n",
       "445     2\n",
       "446     6\n",
       "447     2\n",
       "448     3\n",
       "449     1\n",
       "Name: Volume, Length: 450, dtype: int64"
      ]
     },
     "execution_count": 79,
     "metadata": {},
     "output_type": "execute_result"
    }
   ],
   "source": [
    "# Before Standard Normalization of the column the data is\n",
    "df['Volume']"
   ]
  },
  {
   "cell_type": "code",
   "execution_count": 80,
   "id": "21e6fbeb-4a8c-4630-9eac-71ab8085bd2f",
   "metadata": {},
   "outputs": [
    {
     "data": {
      "text/plain": [
       "0      2.347417\n",
       "1      1.165831\n",
       "2      0.456880\n",
       "3      0.220563\n",
       "4     -0.488389\n",
       "         ...   \n",
       "445   -0.724706\n",
       "446    0.220563\n",
       "447   -0.724706\n",
       "448   -0.488389\n",
       "449   -0.961023\n",
       "Name: Volume, Length: 450, dtype: float64"
      ]
     },
     "execution_count": 80,
     "metadata": {},
     "output_type": "execute_result"
    }
   ],
   "source": [
    "#After Standard Normalization of the Column\n",
    "col = df['Volume']\n",
    "standardized_cols(col)"
   ]
  },
  {
   "cell_type": "markdown",
   "id": "eab401af-550c-4bb9-8628-7f394aca63f5",
   "metadata": {},
   "source": [
    "#### Distribtion for the Avg Price column"
   ]
  },
  {
   "cell_type": "code",
   "execution_count": 81,
   "id": "4b5d64d0-c966-416e-8fe8-a72784e2a044",
   "metadata": {},
   "outputs": [
    {
     "data": {
      "text/plain": [
       "0      12100\n",
       "1      10100\n",
       "2      16100\n",
       "3      20100\n",
       "4       8100\n",
       "       ...  \n",
       "445     1300\n",
       "446     2600\n",
       "447     1600\n",
       "448     1900\n",
       "449     3100\n",
       "Name: Avg Price, Length: 450, dtype: int64"
      ]
     },
     "execution_count": 81,
     "metadata": {},
     "output_type": "execute_result"
    }
   ],
   "source": [
    "# Before the Normalization the data is \n",
    "df['Avg Price']"
   ]
  },
  {
   "cell_type": "code",
   "execution_count": 82,
   "id": "1623d823-d5ca-4bd5-99fe-5af6de4d73a7",
   "metadata": {},
   "outputs": [
    {
     "data": {
      "text/plain": [
       "0      0.091072\n",
       "1     -0.019548\n",
       "2      0.312312\n",
       "3      0.533552\n",
       "4     -0.130168\n",
       "         ...   \n",
       "445   -0.506277\n",
       "446   -0.434374\n",
       "447   -0.489684\n",
       "448   -0.473091\n",
       "449   -0.406719\n",
       "Name: Avg Price, Length: 450, dtype: float64"
      ]
     },
     "execution_count": 82,
     "metadata": {},
     "output_type": "execute_result"
    }
   ],
   "source": [
    "# After the standard Normalization the data is\n",
    "col = df['Avg Price']\n",
    "standardized_cols(col)"
   ]
  },
  {
   "cell_type": "markdown",
   "id": "0694465c-ec37-4415-8c84-280502aa922a",
   "metadata": {},
   "source": [
    "#### Distribtion for the Total Sales Value Column"
   ]
  },
  {
   "cell_type": "code",
   "execution_count": 83,
   "id": "e1ad1fc3-3960-43d2-93a3-1a2d9f30912d",
   "metadata": {},
   "outputs": [
    {
     "data": {
      "text/plain": [
       "0      181500\n",
       "1      101000\n",
       "2      112700\n",
       "3      120600\n",
       "4       24300\n",
       "        ...  \n",
       "445      2600\n",
       "446     15600\n",
       "447      3200\n",
       "448      5700\n",
       "449      3100\n",
       "Name: Total Sales Value, Length: 450, dtype: int64"
      ]
     },
     "execution_count": 83,
     "metadata": {},
     "output_type": "execute_result"
    }
   ],
   "source": [
    "# Before the the normalization the data is \n",
    "df['Total Sales Value']"
   ]
  },
  {
   "cell_type": "code",
   "execution_count": 84,
   "id": "f05ab759-cf20-456a-bc9c-9d605b1980a5",
   "metadata": {},
   "outputs": [
    {
     "data": {
      "text/plain": [
       "0      2.922469\n",
       "1      1.329516\n",
       "2      1.561038\n",
       "3      1.717365\n",
       "4     -0.188242\n",
       "         ...   \n",
       "445   -0.617647\n",
       "446   -0.360400\n",
       "447   -0.605774\n",
       "448   -0.556303\n",
       "449   -0.607753\n",
       "Name: Total Sales Value, Length: 450, dtype: float64"
      ]
     },
     "execution_count": 84,
     "metadata": {},
     "output_type": "execute_result"
    }
   ],
   "source": [
    "# After the Standard Normalization the data is\n",
    "col = df['Total Sales Value']\n",
    "standardized_cols(col)"
   ]
  },
  {
   "cell_type": "markdown",
   "id": "afa555af-ebf9-41ef-995b-864f0314d666",
   "metadata": {},
   "source": [
    "#### Distribtion for the column Discount Rate"
   ]
  },
  {
   "cell_type": "code",
   "execution_count": 85,
   "id": "7d7bfbf6-8015-4a3d-8c9d-f925d8ed064f",
   "metadata": {},
   "outputs": [
    {
     "data": {
      "text/plain": [
       "0      11.654820\n",
       "1      11.560498\n",
       "2       9.456886\n",
       "3       6.935385\n",
       "4      17.995663\n",
       "         ...    \n",
       "445    15.475687\n",
       "446    17.057027\n",
       "447    18.965550\n",
       "448    16.793014\n",
       "449    15.333300\n",
       "Name: Discount Rate (%), Length: 450, dtype: float64"
      ]
     },
     "execution_count": 85,
     "metadata": {},
     "output_type": "execute_result"
    }
   ],
   "source": [
    "# before the Normalization of column Discount Rate (%) the data is\n",
    "df['Discount Rate (%)']"
   ]
  },
  {
   "cell_type": "code",
   "execution_count": 86,
   "id": "05f41787-2024-4e21-b908-591723f84a27",
   "metadata": {},
   "outputs": [
    {
     "data": {
      "text/plain": [
       "0     -0.829365\n",
       "1     -0.851714\n",
       "2     -1.350129\n",
       "3     -1.947555\n",
       "4      0.672990\n",
       "         ...   \n",
       "445    0.075924\n",
       "446    0.450596\n",
       "447    0.902788\n",
       "448    0.388042\n",
       "449    0.042188\n",
       "Name: Discount Rate (%), Length: 450, dtype: float64"
      ]
     },
     "execution_count": 86,
     "metadata": {},
     "output_type": "execute_result"
    }
   ],
   "source": [
    "# After the standard normalization of column Disacount Rate (%) the data is\n",
    "col = df['Discount Rate (%)']\n",
    "standardized_cols(col)"
   ]
  },
  {
   "cell_type": "code",
   "execution_count": 87,
   "id": "37501dce-ec24-4529-9753-35dd7d7acc83",
   "metadata": {},
   "outputs": [
    {
     "data": {
      "text/plain": [
       "0      3.948422\n",
       "1      1.846958\n",
       "2      1.621190\n",
       "3      1.112568\n",
       "4      0.227598\n",
       "         ...   \n",
       "445   -0.652815\n",
       "446   -0.152022\n",
       "447   -0.607464\n",
       "448   -0.529789\n",
       "449   -0.636636\n",
       "Name: Discount Amount, Length: 450, dtype: float64"
      ]
     },
     "execution_count": 87,
     "metadata": {},
     "output_type": "execute_result"
    }
   ],
   "source": [
    "col = df['Discount Amount']\n",
    "standardized_cols(col)"
   ]
  },
  {
   "cell_type": "markdown",
   "id": "e96d047c-a592-4984-a806-cf28968e7ad0",
   "metadata": {},
   "source": [
    "#### Distribution for the column Net Sales Value "
   ]
  },
  {
   "cell_type": "code",
   "execution_count": 88,
   "id": "119761f5-5f46-4d4b-99a3-7a8974eb2c49",
   "metadata": {},
   "outputs": [
    {
     "data": {
      "text/plain": [
       "0      160346.501180\n",
       "1       89323.897039\n",
       "2      102042.089843\n",
       "3      112235.925298\n",
       "4       19927.053770\n",
       "           ...      \n",
       "445      2197.632127\n",
       "446     12939.103758\n",
       "447      2593.102394\n",
       "448      4742.798174\n",
       "449      2624.667705\n",
       "Name: Net Sales Value, Length: 450, dtype: float64"
      ]
     },
     "execution_count": 88,
     "metadata": {},
     "output_type": "execute_result"
    }
   ],
   "source": [
    "# Before the Normalization of the column Net Sales Value the data is\n",
    "df['Net Sales Value']"
   ]
  },
  {
   "cell_type": "code",
   "execution_count": 89,
   "id": "d0d6defa-584d-4c35-b2ee-4cc27cdd2872",
   "metadata": {},
   "outputs": [
    {
     "data": {
      "text/plain": [
       "0      2.801638\n",
       "1      1.269613\n",
       "2      1.543957\n",
       "3      1.763847\n",
       "4     -0.227342\n",
       "         ...   \n",
       "445   -0.609783\n",
       "446   -0.378079\n",
       "447   -0.601252\n",
       "448   -0.554881\n",
       "449   -0.600571\n",
       "Name: Net Sales Value, Length: 450, dtype: float64"
      ]
     },
     "execution_count": 89,
     "metadata": {},
     "output_type": "execute_result"
    }
   ],
   "source": [
    "# After the Standard Normalization the data is\n",
    "col = df['Net Sales Value']\n",
    "standardized_cols(col)"
   ]
  },
  {
   "cell_type": "markdown",
   "id": "dfda2c83-facc-40be-9415-b7918e6696db",
   "metadata": {},
   "source": [
    "### Conversion of Categorical Data into Dummy Variables\n",
    "●\tObjective: To transform categorical variables into a format that can be provided to ML algorithms.\n",
    "\n",
    "●\tSteps:\n",
    "\tDiscuss the need for converting categorical data into dummy variables (one-hot encoding).\n",
    "    Apply one-hot encoding to the categorical columns, creating binary (0 or 1) columns for each category.\n",
    "\tDisplay a portion of the transformed dataset.\n"
   ]
  },
  {
   "cell_type": "code",
   "execution_count": null,
   "id": "4a1ecc8c-0475-4663-bf72-bf786eed86d6",
   "metadata": {},
   "outputs": [],
   "source": []
  },
  {
   "cell_type": "markdown",
   "id": "33d4da7e-8c33-474d-8eae-f0e8b8dae594",
   "metadata": {},
   "source": [
    "One-hot encoding (OHE), also known as dummy variable encoding,\n",
    "is a technique used to convert categorical data into numerical data\n",
    "that can be processed by machine learning algorithms.\n",
    "\n",
    "#### Why is one-hot encoding necessary?\n",
    "1. Categorical data is not numerical: Machine learning algorithms require numerical input data. \n",
    "    Categorical data, such as text or labels, cannot be processed directly.\n",
    "2. Categorical data has no inherent order: Unlike numerical data,\n",
    "categorical data does not have a natural order or hierarchy.\n",
    "    OHE helps to preserve this lack of order.\n",
    "3. Avoids arbitrary ordering: If categorical data is encoded using a single numerical column, \n",
    "    the algorithm may infer an arbitrary order or hierarchy, leading to incorrect results.\n",
    "    How does one-hot encoding work?\n",
    "4. Create a new column for each category: For each unique category in the categorical data, a new column is created.\n",
    "5. Assign a binary value (0 or 1): For each row,\n",
    "    the corresponding column for the category is assigned a value of 1,while all other columns are assigned a value of 0.\n",
    "\n",
    "#### Benefits of one-hot encoding:\n",
    "1. Preserves categorical relationships: OHE ensures that the categorical relationships are preserved and \n",
    "    not distorted by arbitrary numerical encoding.\n",
    "2. Enables machine learning algorithms: OHE allows categorical data to be processed by machine learning algorithms, \n",
    "    which require numerical input data.\n",
    "3. Improves model interpretability: By creating separate columns for each category, \n",
    "    OHE makes it easier to understand the relationships between the categorical variables and the target variable.\n",
    "#### Common applications:\n",
    "4. Classification problems: OHE is commonly used in classification problems,\n",
    "    such as spam detection, sentiment analysis, and image classification.\n",
    "5. Regression problems: OHE can also be used in regression problems, such as predicting house prices or stock prices.\n",
    "6. Feature engineering: OHE is a fundamental technique in feature engineering, \n",
    "    which involves creating new features from existing ones to improve model performance."
   ]
  },
  {
   "cell_type": "code",
   "execution_count": 142,
   "id": "567db521-5aa1-4e46-940f-e1cf4cfae8b1",
   "metadata": {},
   "outputs": [
    {
     "name": "stdout",
     "output_type": "stream",
     "text": [
      "   Volume  Avg Price  Total Sales Value  Discount Rate (%)  Discount Amount  \\\n",
      "0      15      12100             181500                 11            21153   \n",
      "1      10      10100             101000                 11            11676   \n",
      "2       7      16100             112700                  9            10657   \n",
      "3       6      20100             120600                  6             8364   \n",
      "4       3       8100              24300                 17             4372   \n",
      "\n",
      "   Net Sales Value  Date_02-04-2021  Date_03-04-2021  Date_04-04-2021  \\\n",
      "0           160346                0                0                0   \n",
      "1            89323                0                0                0   \n",
      "2           102042                0                0                0   \n",
      "3           112235                0                0                0   \n",
      "4            19927                0                0                0   \n",
      "\n",
      "   Date_05-04-2021  ...  Model_Vedic Cream  Model_Vedic Oil  \\\n",
      "0                0  ...                  0                0   \n",
      "1                0  ...                  0                0   \n",
      "2                0  ...                  0                0   \n",
      "3                0  ...                  0                0   \n",
      "4                0  ...                  0                0   \n",
      "\n",
      "   Model_Vedic Shampoo  Model_W-Casuals  Model_W-Inners  Model_W-Lounge  \\\n",
      "0                    0                0               0               0   \n",
      "1                    0                0               0               0   \n",
      "2                    0                0               0               0   \n",
      "3                    0                0               0               0   \n",
      "4                    0                0               0               0   \n",
      "\n",
      "   Model_W-Western  Model_YM-98   Model_YM-99  Model_YM-99 Plus  \n",
      "0                0             0            0                 0  \n",
      "1                0             0            0                 0  \n",
      "2                0             0            1                 0  \n",
      "3                0             0            0                 1  \n",
      "4                0             1            0                 0  \n",
      "\n",
      "[5 rows x 94 columns]\n"
     ]
    }
   ],
   "source": [
    "# Select categorical columns\n",
    "categorical_cols = df.select_dtypes(include=['object', 'category']).columns\n",
    "\n",
    "# Apply one-hot encoding\n",
    "df_ohe = pd.get_dummies(df, columns=categorical_cols, drop_first=True)\n",
    "df_ohe = df_ohe.astype(int)\n",
    "# Display a portion of the transformed dataset\n",
    "print(df_ohe.head())\n"
   ]
  },
  {
   "cell_type": "markdown",
   "id": "d2ab6918-7412-45b3-975a-075895ce66e0",
   "metadata": {},
   "source": [
    "### Conclusion\n",
    "#### ●\tSummarize the key findings from the descriptive analytics and data visualizations.\n",
    "#### ●\tReflect on the importance of data preprocessing steps like standardization and one-hot encoding in data analysis and   machine learning.\n"
   ]
  },
  {
   "cell_type": "markdown",
   "id": "7f22b145-77b2-4a5b-a517-dc29866b115b",
   "metadata": {},
   "source": [
    "#### Here's a summary of the key findings and reflections:\n",
    "\n",
    "#### Key Findings from Descriptive Analytics and Data Visualizations\n",
    " 1. **Distribution of Variables:** Descriptive analytics revealed the distribution of variables, \n",
    "    including means, medians, modes, and standard deviations.\n",
    "2. **Correlations** and Relationships: Data visualizations, such as scatter plots and heatmaps,\n",
    "    highlighted correlations and relationships between variables.\n",
    "3. **Outliers and Anomalies:** Visualizations helped identify outliers and anomalies in the data, \n",
    "    which were addressed through data preprocessing.\n",
    "4. **Categorical Variable Insights:** One-hot encoding and data visualizations provided insights into categorical variables,\n",
    "    including frequency distributions and relationships with other variables.\n",
    "\n",
    "#### Reflection on Data Preprocessing Steps\n",
    "1. **Standardization:** Standardization (e.g., z-scoring) is crucial\n",
    "    for ensuring that variables with different scales are treated equally in analysis and modeling. \n",
    "    This helps prevent feature dominance and improves model interpretability.\n",
    "2. **One-Hot Encoding:** One-hot encoding is essential\n",
    "    for converting categorical variables into a format suitable for machine learning algorithms.\n",
    "    This technique helps preserve the relationships between categories and other variables.\n",
    "3. **Importance of Preprocessing:** Data preprocessing steps like standardization and one-hot encoding are vital \n",
    "    for ensuring the quality and integrity of the data.\n",
    "    These steps help reduce the risk of biased or inaccurate results and improve the overall reliability of the analysis."
   ]
  },
  {
   "cell_type": "code",
   "execution_count": null,
   "id": "ee4d7da3-8458-4cfe-b947-e5f18d700d0c",
   "metadata": {},
   "outputs": [],
   "source": []
  },
  {
   "cell_type": "code",
   "execution_count": null,
   "id": "48962868-3533-4a47-b025-0ff1517e25ab",
   "metadata": {},
   "outputs": [],
   "source": []
  },
  {
   "cell_type": "code",
   "execution_count": null,
   "id": "61b656be-ee89-44a4-8bc6-5d397299a254",
   "metadata": {},
   "outputs": [],
   "source": []
  },
  {
   "cell_type": "code",
   "execution_count": null,
   "id": "c06f34a1-b27a-4c98-aea8-19261f641dcb",
   "metadata": {},
   "outputs": [],
   "source": []
  },
  {
   "cell_type": "code",
   "execution_count": null,
   "id": "75926109-f095-4efb-a3f1-f611924bf6d6",
   "metadata": {},
   "outputs": [],
   "source": []
  },
  {
   "cell_type": "code",
   "execution_count": null,
   "id": "a3787417-fdc9-42b1-aaa1-37a79c172f77",
   "metadata": {},
   "outputs": [],
   "source": []
  },
  {
   "cell_type": "code",
   "execution_count": null,
   "id": "d5436f42-a31c-49c7-895b-27a92f945881",
   "metadata": {},
   "outputs": [],
   "source": []
  },
  {
   "cell_type": "code",
   "execution_count": null,
   "id": "5f9faa1e-88c4-47af-abd4-b2f2b44d8b3b",
   "metadata": {},
   "outputs": [],
   "source": []
  },
  {
   "cell_type": "code",
   "execution_count": null,
   "id": "1a1eb7e7-cc38-4c74-9e3d-219c662cca8d",
   "metadata": {},
   "outputs": [],
   "source": []
  },
  {
   "cell_type": "code",
   "execution_count": null,
   "id": "ec62a007-74e5-451a-ada4-8f7fec6923b3",
   "metadata": {},
   "outputs": [],
   "source": []
  },
  {
   "cell_type": "code",
   "execution_count": null,
   "id": "6b79b427-5e0c-4f9e-8043-54dbbbd978e9",
   "metadata": {},
   "outputs": [],
   "source": []
  },
  {
   "cell_type": "code",
   "execution_count": null,
   "id": "11ad2eb2-b4f3-4ccc-812d-1db940c04f51",
   "metadata": {},
   "outputs": [],
   "source": []
  }
 ],
 "metadata": {
  "kernelspec": {
   "display_name": "Python 3 (ipykernel)",
   "language": "python",
   "name": "python3"
  },
  "language_info": {
   "codemirror_mode": {
    "name": "ipython",
    "version": 3
   },
   "file_extension": ".py",
   "mimetype": "text/x-python",
   "name": "python",
   "nbconvert_exporter": "python",
   "pygments_lexer": "ipython3",
   "version": "3.11.7"
  }
 },
 "nbformat": 4,
 "nbformat_minor": 5
}
